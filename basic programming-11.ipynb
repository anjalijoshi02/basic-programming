{
 "cells": [
  {
   "cell_type": "markdown",
   "id": "78053aea",
   "metadata": {},
   "source": [
    "# Python Basic Progrmming Assignment-11"
   ]
  },
  {
   "cell_type": "markdown",
   "id": "1d0de319",
   "metadata": {},
   "source": [
    "#### Question 1 : Write a Python program to find words which are greater than given length k?"
   ]
  },
  {
   "cell_type": "code",
   "execution_count": 5,
   "id": "aca6d2d7",
   "metadata": {},
   "outputs": [],
   "source": [
    "def print_words():\n",
    "    l1=[]\n",
    "    a=input(\"enter the string:\")\n",
    "    b=int(input(\"enter length :\"))\n",
    "    l=a.split()\n",
    "    for i in l:\n",
    "        if len(i)>b:\n",
    "            l1.append(i)\n",
    "    print(','.join(l1))\n",
    "    "
   ]
  },
  {
   "cell_type": "code",
   "execution_count": 6,
   "id": "2bc26e27",
   "metadata": {},
   "outputs": [
    {
     "name": "stdout",
     "output_type": "stream",
     "text": [
      "enter the string:this is a full stack data science course by iNeuron\n",
      "enter length :3\n",
      "this,full,stack,data,science,course,iNeuron\n"
     ]
    }
   ],
   "source": [
    "print_words()"
   ]
  },
  {
   "cell_type": "markdown",
   "id": "3d574091",
   "metadata": {},
   "source": [
    "#### Question 2 : Write a Python program for removing i-th character from a string?"
   ]
  },
  {
   "cell_type": "code",
   "execution_count": 55,
   "id": "fbce144f",
   "metadata": {},
   "outputs": [],
   "source": [
    "def remove_char():\n",
    "    a=input('enter the string ')\n",
    "    b=int(input(\"enter i-th character \"))\n",
    "    l=[]\n",
    "    l.extend(a)\n",
    "    for i in l:\n",
    "        l.pop(b-1)\n",
    "        break\n",
    "    print(''.join(l))"
   ]
  },
  {
   "cell_type": "code",
   "execution_count": 56,
   "id": "50ca2ac2",
   "metadata": {},
   "outputs": [
    {
     "name": "stdout",
     "output_type": "stream",
     "text": [
      "enter the string python\n",
      "enter i-th character 2\n",
      "pthon\n"
     ]
    }
   ],
   "source": [
    "remove_char()"
   ]
  },
  {
   "cell_type": "markdown",
   "id": "5af7c214",
   "metadata": {},
   "source": [
    "#### Question 3: Write a Python program to split and join a string?"
   ]
  },
  {
   "cell_type": "code",
   "execution_count": 36,
   "id": "a43a441b",
   "metadata": {},
   "outputs": [],
   "source": [
    "def split_join_string():\n",
    "    a=input(\"enter the string : \")\n",
    "    l=a.split()\n",
    "    print(\"Split string is :{}\".format(l))\n",
    "    print(\"joined string is :{}\".format(' '.join(l)))\n",
    "    "
   ]
  },
  {
   "cell_type": "code",
   "execution_count": 37,
   "id": "decaf212",
   "metadata": {},
   "outputs": [
    {
     "name": "stdout",
     "output_type": "stream",
     "text": [
      "enter the string : this is full stack data science course\n",
      "Split string is :['this', 'is', 'full', 'stack', 'data', 'science', 'course']\n",
      "joined string is :this is full stack data science course\n"
     ]
    }
   ],
   "source": [
    "split_join_string()"
   ]
  },
  {
   "cell_type": "markdown",
   "id": "c2626b8e",
   "metadata": {},
   "source": [
    "#### question 4 : Write a Python to check if a given string is binary string or not?"
   ]
  },
  {
   "cell_type": "code",
   "execution_count": 38,
   "id": "1178431a",
   "metadata": {},
   "outputs": [],
   "source": [
    "def isBinary():\n",
    "    k=0\n",
    "    a= input(\"enter string :\")\n",
    "    for i in a:\n",
    "        if i=='1' or i=='0':\n",
    "            k=1\n",
    "        else:\n",
    "            k=0\n",
    "            break\n",
    "    if k==1:\n",
    "        print(\"{} is binary string\".format(a))\n",
    "    else:\n",
    "        print(\"{} is not a binary string\".format(a))"
   ]
  },
  {
   "cell_type": "code",
   "execution_count": 40,
   "id": "08a465b4",
   "metadata": {},
   "outputs": [
    {
     "name": "stdout",
     "output_type": "stream",
     "text": [
      "enter string :100101101\n",
      "100101101 is binary string\n",
      "enter string :12210981\n",
      "12210981 is not a binary string\n"
     ]
    }
   ],
   "source": [
    "isBinary()\n",
    "isBinary()"
   ]
  },
  {
   "cell_type": "markdown",
   "id": "c55334a6",
   "metadata": {},
   "source": [
    "#### Question 5 : Write a Python program to find uncommon words from two Strings?"
   ]
  },
  {
   "cell_type": "code",
   "execution_count": 43,
   "id": "5ca0059f",
   "metadata": {},
   "outputs": [],
   "source": [
    "def find_uncommon():\n",
    "    a=input(\"enter first string :\")\n",
    "    b=input(\"Enter second string :\")\n",
    "    l1=set(a.split(' '))\n",
    "    l2=set(b.split(' '))\n",
    "    #print(l1.union(l2))\n",
    "    #print(l1.intersection(l2))\n",
    "    l3=(l1.union(l2)).difference(l1.intersection(l2))\n",
    "    print(l3)\n",
    "            "
   ]
  },
  {
   "cell_type": "code",
   "execution_count": 45,
   "id": "344f5185",
   "metadata": {},
   "outputs": [
    {
     "name": "stdout",
     "output_type": "stream",
     "text": [
      "enter first string :full stack data science\n",
      "Enter second string :data science course\n",
      "{'course', 'full', 'stack'}\n"
     ]
    }
   ],
   "source": [
    "find_uncommon()"
   ]
  },
  {
   "cell_type": "markdown",
   "id": "51716405",
   "metadata": {},
   "source": [
    "#### Question 6: Write a Python to find all duplicate characters in string?"
   ]
  },
  {
   "cell_type": "code",
   "execution_count": 46,
   "id": "620cae21",
   "metadata": {},
   "outputs": [],
   "source": [
    "def find_duplicate():\n",
    "    dup=[]\n",
    "    non_dup=[]\n",
    "    a= input(\"Enter the string :\")\n",
    "    for i in a:\n",
    "        if i not in non_dup:\n",
    "            non_dup.append(i)\n",
    "        else:\n",
    "            dup.append(i)\n",
    "    print(\"duplicate characters are :{}\".format(dup))"
   ]
  },
  {
   "cell_type": "code",
   "execution_count": 47,
   "id": "41867b80",
   "metadata": {},
   "outputs": [
    {
     "name": "stdout",
     "output_type": "stream",
     "text": [
      "Enter the string :aabccdeffgghijjklmmno\n",
      "duplicate characters are :['a', 'c', 'f', 'g', 'j', 'm']\n"
     ]
    }
   ],
   "source": [
    "find_duplicate()"
   ]
  },
  {
   "cell_type": "markdown",
   "id": "783f5686",
   "metadata": {},
   "source": [
    "#### Question 7 : Write a Python Program to check if a string contains any special character?"
   ]
  },
  {
   "cell_type": "code",
   "execution_count": 50,
   "id": "1754085a",
   "metadata": {},
   "outputs": [],
   "source": [
    "def spcl_char():\n",
    "    l=[]\n",
    "    count=0\n",
    "    a=input(\"enter string :\")\n",
    "    special='!@#$%^&*()<>?\\|/:\"{}[]'\n",
    "    for i in a:\n",
    "        if i in special:\n",
    "            l.append(i)\n",
    "            count+=1\n",
    "    if count==0:\n",
    "        print(\"string does not contain any special character\")\n",
    "    else:\n",
    "        print(\"string contains apecial character\")\n",
    "        print(\"special characters are{}\".format(set(l)))"
   ]
  },
  {
   "cell_type": "code",
   "execution_count": 51,
   "id": "a56dcd27",
   "metadata": {},
   "outputs": [
    {
     "name": "stdout",
     "output_type": "stream",
     "text": [
      "enter string :%^$VJG&*&HVJBVJ\n",
      "string contains apecial character\n",
      "special characters are{'*', '$', '%', '^', '&'}\n"
     ]
    }
   ],
   "source": [
    "spcl_char()"
   ]
  },
  {
   "cell_type": "code",
   "execution_count": null,
   "id": "b9d19a8c",
   "metadata": {},
   "outputs": [],
   "source": []
  }
 ],
 "metadata": {
  "kernelspec": {
   "display_name": "Python 3 (ipykernel)",
   "language": "python",
   "name": "python3"
  },
  "language_info": {
   "codemirror_mode": {
    "name": "ipython",
    "version": 3
   },
   "file_extension": ".py",
   "mimetype": "text/x-python",
   "name": "python",
   "nbconvert_exporter": "python",
   "pygments_lexer": "ipython3",
   "version": "3.9.7"
  }
 },
 "nbformat": 4,
 "nbformat_minor": 5
}
