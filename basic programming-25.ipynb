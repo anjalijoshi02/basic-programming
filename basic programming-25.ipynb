{
 "cells": [
  {
   "cell_type": "markdown",
   "id": "eb5f3f6f",
   "metadata": {},
   "source": [
    "# Python Basic Programming Assignment-25"
   ]
  },
  {
   "cell_type": "markdown",
   "id": "be881a7e",
   "metadata": {},
   "source": [
    "#### Question 1 : Create a function that takes three integer arguments (a, b, c) and returns the amount of integers which are of equal value."
   ]
  },
  {
   "cell_type": "code",
   "execution_count": 1,
   "id": "52805f19",
   "metadata": {},
   "outputs": [
    {
     "name": "stdout",
     "output_type": "stream",
     "text": [
      "equal(3,4,3) -> 2\n",
      "equal(1,1,1) -> 3\n",
      "equal(3,4,1) -> 0\n"
     ]
    }
   ],
   "source": [
    "def equal(a,b,c):\n",
    "    if a==b==c:\n",
    "        print(f'equal({a},{b},{c}) -> {3}') \n",
    "    elif a==b or a==c:\n",
    "        print(f'equal({a},{b},{c}) -> {2}')\n",
    "    else: \n",
    "        print(f'equal({a},{b},{c}) -> {0}')\n",
    "equal(3, 4, 3)\n",
    "equal(1, 1, 1)\n",
    "equal(3, 4, 1)"
   ]
  },
  {
   "cell_type": "markdown",
   "id": "b3f15bc7",
   "metadata": {},
   "source": [
    "#### Question 2 : Write a function that converts a dictionary into a list of keys-values tuples."
   ]
  },
  {
   "cell_type": "code",
   "execution_count": 2,
   "id": "28235377",
   "metadata": {},
   "outputs": [
    {
     "name": "stdout",
     "output_type": "stream",
     "text": [
      "[('B', 2), ('C', 3), ('D', 1)]\n",
      "[('dislikes', 3), ('followers', 10), ('likes', 2)]\n"
     ]
    }
   ],
   "source": [
    "def dict_to_list(dic):\n",
    "    l=[]\n",
    "    a=(dict(sorted(dic.items())))\n",
    "    for keys,values in a.items():\n",
    "        l.append((keys,values))\n",
    "    print(l)\n",
    "dict_to_list({\"D\": 1,\"B\": 2,\"C\": 3})\n",
    "dict_to_list({\"likes\": 2,\"dislikes\": 3,\"followers\": 10})"
   ]
  },
  {
   "cell_type": "markdown",
   "id": "5be3400b",
   "metadata": {},
   "source": [
    "#### Question 3 : Write a function that creates a dictionary with each (key, value) pair being the (lower case, upper case) versions of a letter, respectively."
   ]
  },
  {
   "cell_type": "code",
   "execution_count": 3,
   "id": "c27baa1e",
   "metadata": {},
   "outputs": [
    {
     "name": "stdout",
     "output_type": "stream",
     "text": [
      "mapping(['p', 's'])-> {'p': 'P', 's': 'S'}\n",
      "mapping(['a', 'b', 'c'])-> {'a': 'A', 'b': 'B', 'c': 'C'}\n",
      "mapping(['a', 'v', 'y', 'z'])-> {'a': 'A', 'v': 'V', 'y': 'Y', 'z': 'Z'}\n"
     ]
    }
   ],
   "source": [
    "def mapping(a):\n",
    "    dic1={}\n",
    "    for i in a:\n",
    "        dic1[i]=i.upper()\n",
    "    print(f'mapping({a})-> {dic1}')\n",
    "mapping([\"p\", \"s\"])\n",
    "mapping([\"a\", \"b\", \"c\"])\n",
    "mapping([\"a\", \"v\", \"y\", \"z\"])"
   ]
  },
  {
   "cell_type": "markdown",
   "id": "60630066",
   "metadata": {},
   "source": [
    "#### Question 4 : Write a function, that replaces all vowels in a string with a specified vowel."
   ]
  },
  {
   "cell_type": "code",
   "execution_count": 4,
   "id": "4c743572",
   "metadata": {},
   "outputs": [
    {
     "name": "stdout",
     "output_type": "stream",
     "text": [
      "vow_replace ('apples and bananas', 'u')-> upplus und bununus\n",
      "vow_replace ('cheese casserole', 'o')-> chooso cossorolo\n",
      "vow_replace ('stuffed jalapeno poppers', 'e')-> steffed jelepene peppers\n"
     ]
    }
   ],
   "source": [
    "def vow_replace(a,vowel):\n",
    "    vow=['a','e','i','o','u']\n",
    "    output=''\n",
    "    for i in a :\n",
    "        if i in vow:\n",
    "            output+=vowel\n",
    "        else:\n",
    "            output+=i\n",
    "    print(f'vow_replace {a,vowel}-> {output}')\n",
    "vow_replace(\"apples and bananas\", \"u\")\n",
    "vow_replace(\"cheese casserole\", \"o\")\n",
    "vow_replace(\"stuffed jalapeno poppers\", \"e\")"
   ]
  },
  {
   "cell_type": "markdown",
   "id": "5f3551da",
   "metadata": {},
   "source": [
    "#### Question 5 : Create a function that takes a string as input and capitalizes a letter if its ASCII code is even and returns its lower case version if its ASCII code is odd."
   ]
  },
  {
   "cell_type": "code",
   "execution_count": 5,
   "id": "fe183472",
   "metadata": {},
   "outputs": [
    {
     "name": "stdout",
     "output_type": "stream",
     "text": [
      "To Be oR NoT To Be!\n",
      "THe LiTTLe meRmaiD\n",
      "oH wHaT a BeauTiFuL moRNiNg.\n"
     ]
    }
   ],
   "source": [
    "def ascii_capitalize(a):\n",
    "    output=''\n",
    "    for i in a :\n",
    "        if ord(i)%2==0:\n",
    "            output+=i.upper()\n",
    "        else:\n",
    "            output+=i.lower()\n",
    "    print(output)\n",
    "ascii_capitalize(\"to be or not to be!\")\n",
    "ascii_capitalize(\"THE LITTLE MERMAID\")\n",
    "ascii_capitalize(\"Oh what a beautiful morning.\")"
   ]
  }
 ],
 "metadata": {
  "kernelspec": {
   "display_name": "Python 3 (ipykernel)",
   "language": "python",
   "name": "python3"
  },
  "language_info": {
   "codemirror_mode": {
    "name": "ipython",
    "version": 3
   },
   "file_extension": ".py",
   "mimetype": "text/x-python",
   "name": "python",
   "nbconvert_exporter": "python",
   "pygments_lexer": "ipython3",
   "version": "3.9.7"
  }
 },
 "nbformat": 4,
 "nbformat_minor": 5
}
