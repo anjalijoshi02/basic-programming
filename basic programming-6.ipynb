{
 "cells": [
  {
   "cell_type": "markdown",
   "id": "b0a9be1d",
   "metadata": {},
   "source": [
    "# Python basic Programming assignment-6"
   ]
  },
  {
   "cell_type": "markdown",
   "id": "39bbae57",
   "metadata": {},
   "source": [
    "#### Question 1 : Write a Python Program to Display Fibonacci Sequence Using Recursion?"
   ]
  },
  {
   "cell_type": "code",
   "execution_count": 25,
   "id": "aaf67b17",
   "metadata": {},
   "outputs": [
    {
     "name": "stdout",
     "output_type": "stream",
     "text": [
      "enter the number of terms you want in series : 15\n",
      "0 1 1 2 3 5 8 13 21 34 55 89 144 233 377 "
     ]
    }
   ],
   "source": [
    "def fibonacci(n):\n",
    "    if n==0:\n",
    "        return 0\n",
    "    elif n==1:\n",
    "        return 1\n",
    "    else:\n",
    "        return fibonacci(n-1)+fibonacci(n-2)\n",
    "n=int(input(\"enter the number of terms you want in series : \"))\n",
    "for i in range(n):\n",
    "    print(fibonacci(i),end=' ')"
   ]
  },
  {
   "cell_type": "markdown",
   "id": "6caef346",
   "metadata": {},
   "source": [
    "#### Question 2: Write a Python Program to Find Factorial of Number Using Recursion?"
   ]
  },
  {
   "cell_type": "code",
   "execution_count": 5,
   "id": "54014ca6",
   "metadata": {},
   "outputs": [
    {
     "name": "stdout",
     "output_type": "stream",
     "text": [
      "Enter a number :6\n",
      "6 factorial is 720\n"
     ]
    }
   ],
   "source": [
    "def factorial(num):\n",
    "    if (num<1):\n",
    "        return 1\n",
    "    else:\n",
    "        return num*factorial(num-1)\n",
    "a=int(input(\"Enter a number :\"))\n",
    "value=factorial(a)\n",
    "print(\"{} factorial is {}\".format(a,value))"
   ]
  },
  {
   "cell_type": "markdown",
   "id": "106949aa",
   "metadata": {},
   "source": [
    "#### Question 3 : Write a Python Program to calculate your Body Mass Index?"
   ]
  },
  {
   "cell_type": "code",
   "execution_count": 27,
   "id": "55271d66",
   "metadata": {},
   "outputs": [
    {
     "name": "stdout",
     "output_type": "stream",
     "text": [
      "enter your height in metres: 1.64\n",
      "Enter your weight in kg:58\n",
      "Your body mass index is 21.564544913741823\n",
      "Healthy\n"
     ]
    }
   ],
   "source": [
    "def bmi(h,w):\n",
    "    index=w/(h*h)\n",
    "    return index\n",
    "\n",
    "height=float(input(\"enter your height in metres: \"))\n",
    "weight=float(input(\"Enter your weight in kg:\"))\n",
    "index=bmi(height,weight)\n",
    "print(\"Your body mass index is {}\".format(index))\n",
    "if (index<18.5):\n",
    "    print(\"underweight\")\n",
    "elif (index > 18.5 and index<24.9):\n",
    "    print(\"Healthy\")\n",
    "elif (index >24.9 and index<30):\n",
    "    print(\"Overweight\")\n",
    "else:\n",
    "    print(\"obese\")\n",
    "\n"
   ]
  },
  {
   "cell_type": "markdown",
   "id": "2a34dcad",
   "metadata": {},
   "source": [
    "#### Question 4 : Write a Python Program to calculate the natural logarithm of any number?"
   ]
  },
  {
   "cell_type": "code",
   "execution_count": 9,
   "id": "7b3f29d4",
   "metadata": {},
   "outputs": [
    {
     "name": "stdout",
     "output_type": "stream",
     "text": [
      "Enter the number :2\n",
      "natural logarithm of 2.0 is 0.6931471805599453\n"
     ]
    }
   ],
   "source": [
    "import math\n",
    "def n_log(num):\n",
    "    if num<=0:\n",
    "        print(\"natural logarithm of {} is not defined\".format(num))\n",
    "    else:\n",
    "        return math.log(num)\n",
    "a=float(input(\"Enter the number :\"))\n",
    "print(\"natural logarithm of {} is {}\".format(a,n_log(a)))"
   ]
  },
  {
   "cell_type": "markdown",
   "id": "333be3cc",
   "metadata": {},
   "source": [
    "#### Question 5 :Write a Python Program for cube sum of first n natural numbers?"
   ]
  },
  {
   "cell_type": "code",
   "execution_count": 20,
   "id": "f9a55bd0",
   "metadata": {},
   "outputs": [
    {
     "name": "stdout",
     "output_type": "stream",
     "text": [
      "enter the number : 4\n",
      "sum of first 4 natural number is 100.0\n"
     ]
    }
   ],
   "source": [
    "def cube_sum(n):\n",
    "    if n<0:\n",
    "        print(\"invalid input\")\n",
    "    else:\n",
    "        return pow((n*(n+1))/2,2)\n",
    "\n",
    "num=int(input(\"enter the number : \"))\n",
    "print(\"sum of first {} natural number is {}\".format(num,cube_sum(num)))"
   ]
  }
 ],
 "metadata": {
  "kernelspec": {
   "display_name": "Python 3 (ipykernel)",
   "language": "python",
   "name": "python3"
  },
  "language_info": {
   "codemirror_mode": {
    "name": "ipython",
    "version": 3
   },
   "file_extension": ".py",
   "mimetype": "text/x-python",
   "name": "python",
   "nbconvert_exporter": "python",
   "pygments_lexer": "ipython3",
   "version": "3.9.7"
  }
 },
 "nbformat": 4,
 "nbformat_minor": 5
}
