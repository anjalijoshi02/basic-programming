{
 "cells": [
  {
   "cell_type": "markdown",
   "id": "765296aa",
   "metadata": {},
   "source": [
    "# Python Basic Programming Assignment -8"
   ]
  },
  {
   "cell_type": "markdown",
   "id": "6d2955d5",
   "metadata": {},
   "source": [
    "#### Question 1:Write a Python Program to Add Two Matrices?"
   ]
  },
  {
   "cell_type": "code",
   "execution_count": 7,
   "id": "f3b18bd8",
   "metadata": {},
   "outputs": [],
   "source": [
    "def add_matrices(a,b):\n",
    "    print(f'Inputs: {a},{b}')\n",
    "    if len(a) == len(b):\n",
    "        output_matrix = []\n",
    "        for i in range(len(a)):\n",
    "            if len(a[i]) == len(b[i]):\n",
    "                output_matrix.append([])\n",
    "                for j in range(len(a[i])):\n",
    "                    output_matrix[i].append(a[i][j]+b[i][j])\n",
    "            else:\n",
    "                print('Both Matrices must contain same no of rows and columns') \n",
    "    else:\n",
    "        print('Both Matrices must contain same no of rows and columns')\n",
    "    print(f'Output: {output_matrix}')\n"
   ]
  },
  {
   "cell_type": "code",
   "execution_count": 8,
   "id": "df6452b1",
   "metadata": {},
   "outputs": [
    {
     "name": "stdout",
     "output_type": "stream",
     "text": [
      "Inputs: [[1, 2, 3], [4, 5, 6], [7, 8, 9]],[[7, 8, 9], [4, 5, 6], [1, 2, 3]]\n",
      "Output: [[8, 10, 12], [8, 10, 12], [8, 10, 12]]\n"
     ]
    }
   ],
   "source": [
    "add_matrices([[1,2,3],[4,5,6],[7,8,9]],[[7,8,9],[4,5,6],[1,2,3]])"
   ]
  },
  {
   "cell_type": "code",
   "execution_count": 10,
   "id": "618deafc",
   "metadata": {},
   "outputs": [
    {
     "name": "stdout",
     "output_type": "stream",
     "text": [
      "Inputs: [[1, 2], [4, 5]],[[6, 7], [4, 5]]\n",
      "Output: [[7, 9], [8, 10]]\n"
     ]
    }
   ],
   "source": [
    "add_matrices([[1,2],[4,5]],[[6,7],[4,5]])"
   ]
  },
  {
   "cell_type": "markdown",
   "id": "4ec1a20b",
   "metadata": {},
   "source": [
    "#### Question 2 : Write a Python Program to Multiply Two Matrices?"
   ]
  },
  {
   "cell_type": "code",
   "execution_count": 11,
   "id": "3801de1a",
   "metadata": {},
   "outputs": [],
   "source": [
    "def multiply_matrices(a,b):\n",
    "    output = []\n",
    "    if len(a[0]) == len(b):\n",
    "        for i in range(len(a[0])):\n",
    "            output.append([0 for i in range(len(b[0]))])\n",
    "        for i in range(len(a)):\n",
    "            for j in range(len(b[0])):\n",
    "                for k in range(len(b)):\n",
    "                    output[i][j] += a[i][k]*b[k][j]\n",
    "        print(output)     \n",
    "    else:\n",
    "        print('Matrix Multiplication is Not Possible')"
   ]
  },
  {
   "cell_type": "code",
   "execution_count": 12,
   "id": "aac997f1",
   "metadata": {},
   "outputs": [
    {
     "name": "stdout",
     "output_type": "stream",
     "text": [
      "[[7, 10], [15, 22]]\n"
     ]
    }
   ],
   "source": [
    "multiply_matrices([[1,2],[3,4]],[[1,2],[3,4]])"
   ]
  },
  {
   "cell_type": "markdown",
   "id": "8b7594f4",
   "metadata": {},
   "source": [
    "#### Question 3 : Write a Python Program to Transpose a Matrix?"
   ]
  },
  {
   "cell_type": "code",
   "execution_count": 13,
   "id": "5434958c",
   "metadata": {},
   "outputs": [],
   "source": [
    "def transpose(m):\n",
    "    output = []\n",
    "    for i in range(len(m[0])):\n",
    "        output.append([0 for j in range(len(m))])\n",
    "    for j in range(len(m)):\n",
    "        for k in range(len(m[j])):\n",
    "            output[k][j] = m[j][k]\n",
    "    print(f'transpose of {m} is \\n{output}')"
   ]
  },
  {
   "cell_type": "code",
   "execution_count": 14,
   "id": "c12e3c8e",
   "metadata": {},
   "outputs": [
    {
     "name": "stdout",
     "output_type": "stream",
     "text": [
      "transpose of [[1, 2], [3, 4]] is \n",
      "[[1, 3], [2, 4]]\n"
     ]
    }
   ],
   "source": [
    "transpose([[1,2],[3,4]])"
   ]
  },
  {
   "cell_type": "code",
   "execution_count": 15,
   "id": "aee8f6e9",
   "metadata": {},
   "outputs": [
    {
     "name": "stdout",
     "output_type": "stream",
     "text": [
      "transpose of [[1, 2, 3], [4, 5, 6], [7, 8, 9]] is \n",
      "[[1, 4, 7], [2, 5, 8], [3, 6, 9]]\n"
     ]
    }
   ],
   "source": [
    "transpose([[1,2,3],[4,5,6],[7,8,9]])"
   ]
  },
  {
   "cell_type": "markdown",
   "id": "f36fe9d5",
   "metadata": {},
   "source": [
    "#### Question 4 : Write a Python Program to Sort Words in Alphabetic Order?"
   ]
  },
  {
   "cell_type": "code",
   "execution_count": 24,
   "id": "20f424f6",
   "metadata": {},
   "outputs": [],
   "source": [
    "def sort_words(a):\n",
    "    l=a.split()\n",
    "    l1=sorted(l)\n",
    "    print(' '.join(l1))"
   ]
  },
  {
   "cell_type": "code",
   "execution_count": 25,
   "id": "ddb396ad",
   "metadata": {},
   "outputs": [
    {
     "name": "stdout",
     "output_type": "stream",
     "text": [
      "course data full is science stack this\n"
     ]
    }
   ],
   "source": [
    "sort_words('this is full stack data science course')"
   ]
  },
  {
   "cell_type": "markdown",
   "id": "10328a0b",
   "metadata": {},
   "source": [
    "#### Question 5 : Write a Python Program to Remove Punctuation From a String?"
   ]
  },
  {
   "cell_type": "code",
   "execution_count": 33,
   "id": "b83d8b60",
   "metadata": {},
   "outputs": [],
   "source": [
    "def remove_punc(a):\n",
    "    punc='''!@#$%^&*(){}<>?,./''\"\"'''\n",
    "    output = ''\n",
    "    for i in a:\n",
    "        if i not in punc:\n",
    "            output += i\n",
    "    print(output)\n",
    "    \n",
    "        "
   ]
  },
  {
   "cell_type": "code",
   "execution_count": 34,
   "id": "acac7488",
   "metadata": {},
   "outputs": [
    {
     "name": "stdout",
     "output_type": "stream",
     "text": [
      "abc  xyz \n"
     ]
    }
   ],
   "source": [
    "remove_punc('abc @ xyz #')"
   ]
  },
  {
   "cell_type": "code",
   "execution_count": null,
   "id": "74ec0809",
   "metadata": {},
   "outputs": [],
   "source": []
  }
 ],
 "metadata": {
  "kernelspec": {
   "display_name": "Python 3 (ipykernel)",
   "language": "python",
   "name": "python3"
  },
  "language_info": {
   "codemirror_mode": {
    "name": "ipython",
    "version": 3
   },
   "file_extension": ".py",
   "mimetype": "text/x-python",
   "name": "python",
   "nbconvert_exporter": "python",
   "pygments_lexer": "ipython3",
   "version": "3.9.7"
  }
 },
 "nbformat": 4,
 "nbformat_minor": 5
}
