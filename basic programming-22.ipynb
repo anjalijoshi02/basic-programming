{
 "cells": [
  {
   "cell_type": "markdown",
   "id": "dbc500b4",
   "metadata": {},
   "source": [
    "# Python Basic Programming Assignment-22"
   ]
  },
  {
   "cell_type": "markdown",
   "id": "d65e349a",
   "metadata": {},
   "source": [
    "#### Question 1: Create a function that takes three parameters where:\n",
    "- x is the start of the range (inclusive).\n",
    "- y is the end of the range (inclusive).\n",
    "- n is the divisor to be checked against.\n",
    "#### Return an ordered list with numbers in the range that are divisible by the third parameter n.\n",
    "#### Return an empty list if there are no numbers that are divisible by n."
   ]
  },
  {
   "cell_type": "code",
   "execution_count": 1,
   "id": "96e96216",
   "metadata": {},
   "outputs": [
    {
     "name": "stdout",
     "output_type": "stream",
     "text": [
      "list_operation (1, 10, 3)-> [3, 6, 9]\n",
      "list_operation (7, 9, 2)-> [8]\n",
      "list_operation (15, 20, 7)-> []\n"
     ]
    }
   ],
   "source": [
    "def list_operation(a,b,c):\n",
    "    l=[]\n",
    "    for i in range(a,b+1):\n",
    "        if i%c==0:\n",
    "            l.append(i)\n",
    "    print(f'list_operation {a,b,c}-> {l}')\n",
    "list_operation(1, 10, 3) \n",
    "list_operation(7, 9, 2) \n",
    "list_operation(15, 20, 7)"
   ]
  },
  {
   "cell_type": "markdown",
   "id": "6b267fc9",
   "metadata": {},
   "source": [
    "#### Question 2:Create a function that takes in two lists and returns True if the second list follows the first list by one element, and False otherwise. In other words, determine if the second list is the first list shifted to the right by 1."
   ]
  },
  {
   "cell_type": "code",
   "execution_count": 2,
   "id": "5dcf230d",
   "metadata": {},
   "outputs": [
    {
     "name": "stdout",
     "output_type": "stream",
     "text": [
      "([1, 2], [5, 1]) ➞ True\n",
      "([1, 2], [5, 5]) ➞ False\n",
      "([1, 2, 3, 4, 5], [0, 1, 2, 3, 4]) ➞ True\n",
      "([1, 2, 3, 4, 5], [5, 5, 1, 2, 3]) ➞ False\n"
     ]
    }
   ],
   "source": [
    "def simon_says(list_1,list_2):\n",
    "    if len(list_1) == len(list_1) and len(list_1) >=2 and len(list_1) >=2:\n",
    "        if(list_1[:-1] ==list_2[1:]):\n",
    "            print(f'{list_1,list_2} ➞ {True}')\n",
    "        else:\n",
    "            print(f'{list_1,list_2} ➞ {False}')\n",
    "simon_says([1, 2], [5, 1])\n",
    "simon_says([1, 2], [5, 5])\n",
    "simon_says([1, 2, 3, 4, 5], [0, 1, 2, 3, 4])\n",
    "simon_says([1, 2, 3, 4, 5], [5, 5, 1, 2, 3])"
   ]
  },
  {
   "cell_type": "markdown",
   "id": "fcf70f75",
   "metadata": {},
   "source": [
    "#### Question 3 :A group of friends have decided to start a secret society. The name will be the first letter of each of their names, sorted in alphabetical order.\n",
    "#### Create a function that takes in a list of names and returns the name of the secret society."
   ]
  },
  {
   "cell_type": "code",
   "execution_count": 3,
   "id": "14dac322",
   "metadata": {},
   "outputs": [
    {
     "name": "stdout",
     "output_type": "stream",
     "text": [
      "society_name(['Adam', 'Sarah', 'Malcolm'])-> \"AMS\"\n",
      "society_name(['Harry', 'Newt', 'Luna', 'Cho'])-> \"CHLN\"\n",
      "society_name(['Phoebe', 'Chandler', 'Rachel', 'Ross', 'Monica', 'Joey'])-> \"CJMPRR\"\n"
     ]
    }
   ],
   "source": [
    "def society_name(l):\n",
    "    result=''\n",
    "    for i in l:\n",
    "        result+=i[0]\n",
    "    result=(''.join(sorted(result)))\n",
    "    print(f'society_name({l})-> \"{result}\"')\n",
    "society_name([\"Adam\", \"Sarah\", \"Malcolm\"])\n",
    "society_name([\"Harry\", \"Newt\", \"Luna\", \"Cho\"])\n",
    "society_name([\"Phoebe\", \"Chandler\", \"Rachel\", \"Ross\", \"Monica\", \"Joey\"])"
   ]
  },
  {
   "cell_type": "markdown",
   "id": "383da1c8",
   "metadata": {},
   "source": [
    "#### Question 4 :An isogram is a word that has no duplicate letters. Create a function that takes a string andreturns either True or False depending on whether or not it's an isogram."
   ]
  },
  {
   "cell_type": "code",
   "execution_count": 4,
   "id": "009c6732",
   "metadata": {},
   "outputs": [
    {
     "name": "stdout",
     "output_type": "stream",
     "text": [
      " is_isogram(Algorism) -> True\n",
      " is_isogram(PasSword) -> False\n",
      " is_isogram(Consecutive) -> False\n"
     ]
    }
   ],
   "source": [
    "def is_isogram(string):\n",
    "    new_string=string.lower()\n",
    "    if len(string)==len(set(new_string)):\n",
    "        print(f' is_isogram({string}) -> {True}')\n",
    "    else:\n",
    "        print(f' is_isogram({string}) -> {False}')\n",
    "        \n",
    "is_isogram(\"Algorism\")\n",
    "is_isogram(\"PasSword\")\n",
    "is_isogram(\"Consecutive\")"
   ]
  },
  {
   "cell_type": "markdown",
   "id": "dcde5ff8",
   "metadata": {},
   "source": [
    "#### Question 5 :Create a function that takes a string and returns True or False, depending on whether the characters are in order or not."
   ]
  },
  {
   "cell_type": "code",
   "execution_count": 5,
   "id": "b26929af",
   "metadata": {},
   "outputs": [
    {
     "name": "stdout",
     "output_type": "stream",
     "text": [
      " is_in_order(abc)->True\n",
      " is_in_order(edabit)->False\n",
      " is_in_order(123)->True\n",
      " is_in_order(xyzz)->True\n"
     ]
    }
   ],
   "source": [
    "def is_in_order(string):\n",
    "    new_string=''.join(sorted(string))\n",
    "    if new_string==string:\n",
    "        print(f' is_in_order({string})->{True}')\n",
    "    else:\n",
    "        print(f' is_in_order({string})->{False}')\n",
    "is_in_order(\"abc\")\n",
    "is_in_order(\"edabit\")\n",
    "is_in_order(\"123\")\n",
    "is_in_order(\"xyzz\")"
   ]
  }
 ],
 "metadata": {
  "kernelspec": {
   "display_name": "Python 3 (ipykernel)",
   "language": "python",
   "name": "python3"
  },
  "language_info": {
   "codemirror_mode": {
    "name": "ipython",
    "version": 3
   },
   "file_extension": ".py",
   "mimetype": "text/x-python",
   "name": "python",
   "nbconvert_exporter": "python",
   "pygments_lexer": "ipython3",
   "version": "3.9.7"
  }
 },
 "nbformat": 4,
 "nbformat_minor": 5
}
