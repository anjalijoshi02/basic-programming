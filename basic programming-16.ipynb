{
 "cells": [
  {
   "cell_type": "markdown",
   "id": "7505cb7b",
   "metadata": {},
   "source": [
    "# Python Basic Programming Assignment-16"
   ]
  },
  {
   "cell_type": "markdown",
   "id": "1bbf4b11",
   "metadata": {},
   "source": [
    "#### Question 1 : Write a function that stutters a word as if someone is struggling to read it. The first two letters are repeated twice with an ellipsis ... and space after each, and then the word is pronounced with a question mark ?."
   ]
  },
  {
   "cell_type": "code",
   "execution_count": 1,
   "id": "63b7d7d6",
   "metadata": {},
   "outputs": [
    {
     "name": "stdout",
     "output_type": "stream",
     "text": [
      " slutter(incredible) -> in...in...incredible?\n",
      " slutter(enthusiastic) -> en...en...enthusiastic?\n",
      " slutter(outstanding) -> ou...ou...outstanding?\n"
     ]
    }
   ],
   "source": [
    "def slutter(string):\n",
    "    result=''\n",
    "    for i in string:\n",
    "        result=string.replace(string[0:2],((string[0:2]+'...')*2) + string[0:2])+'?'\n",
    "    print(f' slutter({string}) -> {result}')\n",
    "slutter(\"incredible\")\n",
    "slutter(\"enthusiastic\")\n",
    "slutter(\"outstanding\")"
   ]
  },
  {
   "cell_type": "markdown",
   "id": "36456db7",
   "metadata": {},
   "source": [
    "#### Question 2 : Create a function that takes an angle in radians and returns the corresponding angle in degrees rounded to one decimal place."
   ]
  },
  {
   "cell_type": "code",
   "execution_count": 2,
   "id": "490abceb",
   "metadata": {},
   "outputs": [
    {
     "name": "stdout",
     "output_type": "stream",
     "text": [
      "radians_to_degree (1) -> 57.3\n",
      "radians_to_degree (20) -> 1145.9\n",
      "radians_to_degree (50) -> 2864.8\n"
     ]
    }
   ],
   "source": [
    "def radians_to_degree(rad):\n",
    "    result= rad*57.2958\n",
    "    print(f'radians_to_degree ({rad}) -> {result:.1f}')\n",
    "radians_to_degree(1)\n",
    "radians_to_degree(20)\n",
    "radians_to_degree(50)"
   ]
  },
  {
   "cell_type": "markdown",
   "id": "098a394a",
   "metadata": {},
   "source": [
    "#### Question 3: In this challenge, establish if a given integer num is a Curzon number. If 1 plus 2 elevated to num is exactly divisible by 1 plus 2 multiplied by num, then num is a Curzon number."
   ]
  },
  {
   "cell_type": "code",
   "execution_count": 3,
   "id": "c7b54e24",
   "metadata": {},
   "outputs": [
    {
     "name": "stdout",
     "output_type": "stream",
     "text": [
      " is_curzon (5) -> True\n",
      " is_curzon (10) -> False\n",
      " is_curzon (14) -> True\n"
     ]
    }
   ],
   "source": [
    "def is_curzon(num):\n",
    "    if ((2**num)+1)%(num*2 +1)==0:\n",
    "        print(f' is_curzon ({num}) -> {True}')\n",
    "    else:\n",
    "        print(f' is_curzon ({num}) -> {False}')\n",
    "is_curzon(5)\n",
    "is_curzon(10)\n",
    "is_curzon(14)"
   ]
  },
  {
   "cell_type": "markdown",
   "id": "023a68b0",
   "metadata": {},
   "source": [
    "#### Question 4 :Given the side length x find the area of a hexagon."
   ]
  },
  {
   "cell_type": "code",
   "execution_count": 4,
   "id": "7a73c1e7",
   "metadata": {},
   "outputs": [
    {
     "name": "stdout",
     "output_type": "stream",
     "text": [
      "area_of_hexagon (1) -> 2.6\n",
      "area_of_hexagon (2) -> 10.4\n",
      "area_of_hexagon (3) -> 23.4\n"
     ]
    }
   ],
   "source": [
    "import math\n",
    "def area_of_hexagon(s):\n",
    "    area= (3*math.sqrt(3)*s*s)/2\n",
    "    print(f'area_of_hexagon ({s}) -> {area:.1f}')\n",
    "area_of_hexagon(1)\n",
    "area_of_hexagon(2)\n",
    "area_of_hexagon(3)"
   ]
  },
  {
   "cell_type": "markdown",
   "id": "e33c2754",
   "metadata": {},
   "source": [
    "#### Question 5:Create a function that returns a base-2 (binary) representation of a base-10 (decimal) string number."
   ]
  },
  {
   "cell_type": "code",
   "execution_count": 5,
   "id": "b8f7d764",
   "metadata": {},
   "outputs": [
    {
     "name": "stdout",
     "output_type": "stream",
     "text": [
      "Binary( 1) -> 1\n",
      "Binary( 5) -> 101\n",
      "Binary( 10) -> 1010\n"
     ]
    }
   ],
   "source": [
    "def Binary(num):\n",
    "    result = bin(num).replace('0b','') \n",
    "    print(f'Binary( {num}) -> {result}')\n",
    "Binary(1)\n",
    "Binary(5)\n",
    "Binary(10)"
   ]
  },
  {
   "cell_type": "code",
   "execution_count": null,
   "id": "747f2072",
   "metadata": {},
   "outputs": [],
   "source": []
  }
 ],
 "metadata": {
  "kernelspec": {
   "display_name": "Python 3 (ipykernel)",
   "language": "python",
   "name": "python3"
  },
  "language_info": {
   "codemirror_mode": {
    "name": "ipython",
    "version": 3
   },
   "file_extension": ".py",
   "mimetype": "text/x-python",
   "name": "python",
   "nbconvert_exporter": "python",
   "pygments_lexer": "ipython3",
   "version": "3.9.7"
  }
 },
 "nbformat": 4,
 "nbformat_minor": 5
}
