{
 "cells": [
  {
   "cell_type": "markdown",
   "id": "fec80030",
   "metadata": {},
   "source": [
    "# Baisc programming Assignment-4\n"
   ]
  },
  {
   "cell_type": "markdown",
   "id": "740ec707",
   "metadata": {},
   "source": [
    "#### Question 1 : Write a Python Program to Find the Factorial of a Number?"
   ]
  },
  {
   "cell_type": "code",
   "execution_count": 5,
   "id": "9b175fc3",
   "metadata": {},
   "outputs": [
    {
     "name": "stdout",
     "output_type": "stream",
     "text": [
      "Enter the number :5\n",
      "factorial of 5 is 120\n"
     ]
    }
   ],
   "source": [
    "fact=1\n",
    "num=int(input(\"Enter the number :\"))\n",
    "for i in range(1,num+1):\n",
    "    fact=fact*i\n",
    "print(\"factorial of {} is {}\".format(num,fact))"
   ]
  },
  {
   "cell_type": "markdown",
   "id": "fbc2d6f8",
   "metadata": {},
   "source": [
    "#### Question 2 : Write a Python Program to Display the multiplication Table?"
   ]
  },
  {
   "cell_type": "code",
   "execution_count": 8,
   "id": "d5fcc143",
   "metadata": {},
   "outputs": [
    {
     "name": "stdout",
     "output_type": "stream",
     "text": [
      "Enter the number whose table you want:6\n",
      "6 X 1 = 6\n",
      "6 X 2 = 12\n",
      "6 X 3 = 18\n",
      "6 X 4 = 24\n",
      "6 X 5 = 30\n",
      "6 X 6 = 36\n",
      "6 X 7 = 42\n",
      "6 X 8 = 48\n",
      "6 X 9 = 54\n",
      "6 X 10 = 60\n"
     ]
    }
   ],
   "source": [
    "num1=int(input(\"Enter the number whose table you want:\"))\n",
    "for i in range(1,11):\n",
    "    print(\"{} X {} = {}\".format(num1,i,num1*i))"
   ]
  },
  {
   "cell_type": "markdown",
   "id": "8f973b0d",
   "metadata": {},
   "source": [
    "#### Question 3: Write a Python Program to Print the Fibonacci sequence?"
   ]
  },
  {
   "cell_type": "code",
   "execution_count": 21,
   "id": "9b6b8dc4",
   "metadata": {},
   "outputs": [
    {
     "name": "stdout",
     "output_type": "stream",
     "text": [
      "Enter number of terms of fibonacci sequence:12\n",
      "Fibonacci sequence is : [0, 1, 1, 2, 3, 5, 8, 13, 21, 34, 55, 89]\n"
     ]
    }
   ],
   "source": [
    "num=int(input(\"Enter number of terms of fibonacci sequence:\"))\n",
    "initial_seq=[0,1]\n",
    "if num<=0:\n",
    "    print(\"invalid input\")\n",
    "elif num==1:\n",
    "    print(\"Fibonacci sequence is :\",[0])\n",
    "elif num==2:\n",
    "    print(\"Fibonacci sequence is :\",initial_seq)\n",
    "else:\n",
    "    for i in range(2,num):\n",
    "        initial_seq.append(initial_seq[i-2]+initial_seq[i-1])\n",
    "    print(\"Fibonacci sequence is :\",initial_seq)"
   ]
  },
  {
   "cell_type": "markdown",
   "id": "422b2a43",
   "metadata": {},
   "source": [
    "#### Question 4 : Write a Python Program to Check Armstrong Number?"
   ]
  },
  {
   "cell_type": "code",
   "execution_count": 20,
   "id": "b4e88865",
   "metadata": {},
   "outputs": [
    {
     "name": "stdout",
     "output_type": "stream",
     "text": [
      "Enter the number:153\n",
      "153 is an armstrong number \n"
     ]
    }
   ],
   "source": [
    "n=int(input(\"Enter the number:\"))\n",
    "sum=0\n",
    "a=n\n",
    "order=len(str(n))\n",
    "while(n>0):\n",
    "    digit=n%10\n",
    "    sum=sum+((digit)**(order))\n",
    "    n=n//10\n",
    "if sum==a:\n",
    "    print(\"{} is an armstrong number \".format(a))\n",
    "else:\n",
    "    print(\"{} is not an armstrong number \".format(a))"
   ]
  },
  {
   "cell_type": "markdown",
   "id": "2c41b062",
   "metadata": {},
   "source": [
    "#### Question 5: Write a Python Program to Find Armstrong Number in an Interval?"
   ]
  },
  {
   "cell_type": "code",
   "execution_count": 22,
   "id": "e516aef0",
   "metadata": {},
   "outputs": [
    {
     "name": "stdout",
     "output_type": "stream",
     "text": [
      "Enter starting point of interval:1\n",
      "enter end point of interval:100000\n",
      "Armstrong numbers in the interval(1,100000) are [1, 2, 3, 4, 5, 6, 7, 8, 9, 153, 370, 371, 407, 1634, 8208, 9474, 54748, 92727, 93084]\n"
     ]
    }
   ],
   "source": [
    "#A number is said to be Armstrong or Narcissistic Number if it is equal to the sum of its own\n",
    "#digits raised to the power of the number of digits in a given number\n",
    "\n",
    "n1=int(input(\"Enter starting point of interval:\"))\n",
    "n2=int(input(\"enter end point of interval:\"))\n",
    "if n1>n2:\n",
    "    print(\"Starting point cannot be greater than the end point of interval\")\n",
    "else:\n",
    "    sum=0\n",
    "    l=[]\n",
    "    for n in range(n1,n2+1):\n",
    "        sum=0\n",
    "        a=n\n",
    "        order=len(str(n))\n",
    "        while(n>0):\n",
    "            digit=n%10\n",
    "            sum=sum+((digit)**(order))    \n",
    "            n=n//10\n",
    "        if sum==a:\n",
    "            l.append(a)\n",
    "    print(\"Armstrong numbers in the interval({},{}) are {}\".format(n1,n2,l))"
   ]
  },
  {
   "cell_type": "markdown",
   "id": "653b21c0",
   "metadata": {},
   "source": [
    "#### Question 6 : Write a Python Program to Find the Sum of Natural Numbers?"
   ]
  },
  {
   "cell_type": "code",
   "execution_count": 19,
   "id": "659287b4",
   "metadata": {},
   "outputs": [
    {
     "name": "stdout",
     "output_type": "stream",
     "text": [
      "Enter the number :10\n",
      "sum of first 10 natural numbers is 55.0\n"
     ]
    }
   ],
   "source": [
    "n=int(input(\"Enter the number :\"))\n",
    "print(\"sum of first {} natural numbers is {}\".format(n,(n*(n+1))/2))"
   ]
  },
  {
   "cell_type": "code",
   "execution_count": null,
   "id": "88517ff0",
   "metadata": {},
   "outputs": [],
   "source": []
  }
 ],
 "metadata": {
  "kernelspec": {
   "display_name": "Python 3 (ipykernel)",
   "language": "python",
   "name": "python3"
  },
  "language_info": {
   "codemirror_mode": {
    "name": "ipython",
    "version": 3
   },
   "file_extension": ".py",
   "mimetype": "text/x-python",
   "name": "python",
   "nbconvert_exporter": "python",
   "pygments_lexer": "ipython3",
   "version": "3.9.7"
  }
 },
 "nbformat": 4,
 "nbformat_minor": 5
}
