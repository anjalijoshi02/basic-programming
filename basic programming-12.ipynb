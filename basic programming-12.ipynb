{
 "cells": [
  {
   "cell_type": "markdown",
   "id": "c0cbfbeb",
   "metadata": {},
   "source": [
    "# Python Basic Programming Assignment-12"
   ]
  },
  {
   "cell_type": "markdown",
   "id": "35d5193d",
   "metadata": {},
   "source": [
    "#### Question 1 : Write a Python program to Extract Unique values dictionary values?"
   ]
  },
  {
   "cell_type": "code",
   "execution_count": 6,
   "id": "2704934a",
   "metadata": {},
   "outputs": [
    {
     "name": "stdout",
     "output_type": "stream",
     "text": [
      "all values are ['india', 'australia', 'USA', 'USA', 'india', 'Delhi', 'germany']\n",
      "'unique values are ['USA', 'india', 'germany', 'Delhi', 'australia']\n"
     ]
    }
   ],
   "source": [
    "dic={'k1':'india','k2':'australia','k3':'USA','k4':'USA','k5':'india','k6':'Delhi','k7':'germany'}\n",
    "print(\"all values are {}\".format(list(dic.values())))\n",
    "print(\"'unique values are {}\".format(list(set(dic.values()))))"
   ]
  },
  {
   "cell_type": "markdown",
   "id": "3e7dea2c",
   "metadata": {},
   "source": [
    "#### Question 2 : Write a Python program to find the sum of all items in a dictionary?"
   ]
  },
  {
   "cell_type": "code",
   "execution_count": 13,
   "id": "ec0fa2d4",
   "metadata": {},
   "outputs": [
    {
     "name": "stdout",
     "output_type": "stream",
     "text": [
      "sum of all items is 217\n"
     ]
    }
   ],
   "source": [
    "dic={'a1':2,'a2':9,'a3':12,'a4':56,'a5':60,'a6':78}\n",
    "print('sum of all items is {}'.format(sum(dic.values())))"
   ]
  },
  {
   "cell_type": "markdown",
   "id": "25edeab3",
   "metadata": {},
   "source": [
    "#### Question 3 : Write a Python program to Merging two Dictionaries?"
   ]
  },
  {
   "cell_type": "code",
   "execution_count": 17,
   "id": "41db9214",
   "metadata": {},
   "outputs": [
    {
     "name": "stdout",
     "output_type": "stream",
     "text": [
      "dictionary 1 is {'India': 'New Delhi', 'Australia': 'Canberra', 'USA': 'Washington DC'}\n",
      "dictionary 2 is {'Germany': 'Berlin', 'France': 'Paris'}\n",
      "After merging : {'India': 'New Delhi', 'Australia': 'Canberra', 'USA': 'Washington DC', 'Germany': 'Berlin', 'France': 'Paris'}\n"
     ]
    }
   ],
   "source": [
    "dic1={'India':'New Delhi','Australia':'Canberra','USA':'Washington DC'}\n",
    "dic2={'Germany':'Berlin','France':'Paris'}\n",
    "print(\"dictionary 1 is {}\".format(dic1))\n",
    "print(\"dictionary 2 is {}\".format(dic2))\n",
    "dic1.update(dic2)\n",
    "print(\"After merging : {}\".format(dic1))"
   ]
  },
  {
   "cell_type": "markdown",
   "id": "f5d6050b",
   "metadata": {},
   "source": [
    "#### Question 4 : Write a Python program to convert key-values list to flat dictionary?"
   ]
  },
  {
   "cell_type": "code",
   "execution_count": 18,
   "id": "c9b41714",
   "metadata": {},
   "outputs": [
    {
     "name": "stdout",
     "output_type": "stream",
     "text": [
      "{'A': 1, 'B': 2, 'C': 3, 'D': 4, 'E': 5, 'F': 6, 'G': 7, 'H': 8, 'I': 9, 'J': 10}\n"
     ]
    }
   ],
   "source": [
    "dic=[('A',1),('B',2),('C',3),('D',4),('E',5),('F',6),('G',7),('H',8),('I',9),('J',10)]\n",
    "print(dict(dic))\n"
   ]
  },
  {
   "cell_type": "markdown",
   "id": "5023f9b0",
   "metadata": {},
   "source": [
    "#### Question 5 : Write a Python program to insertion at the beginning in OrderedDict?"
   ]
  },
  {
   "cell_type": "code",
   "execution_count": 4,
   "id": "70be2af7",
   "metadata": {},
   "outputs": [
    {
     "name": "stdout",
     "output_type": "stream",
     "text": [
      "OrderedDict([('India', 'New Delhi'), ('Australia', 'Canberra'), ('USA', 'Washington DC')])\n",
      "After inserting element at beginning \n",
      "OrderedDict([('France', 'Paris'), ('India', 'New Delhi'), ('Australia', 'Canberra'), ('USA', 'Washington DC')])\n"
     ]
    }
   ],
   "source": [
    "from collections import OrderedDict\n",
    "dic1 = OrderedDict({'India':'New Delhi','Australia':'Canberra','USA':'Washington DC'})\n",
    "print(dic1)\n",
    "dic2 = {'France':'Paris'}\n",
    "dic1.update(dic2)\n",
    "dic1.move_to_end('France',last=False)\n",
    "print('After inserting element at beginning \\n{}'.format(dic1))"
   ]
  },
  {
   "cell_type": "markdown",
   "id": "2179227f",
   "metadata": {},
   "source": [
    "#### Question 6 : Write a Python program to check order of character in string using OrderedDict()?"
   ]
  },
  {
   "cell_type": "code",
   "execution_count": 8,
   "id": "7c86cc5c",
   "metadata": {},
   "outputs": [
    {
     "name": "stdout",
     "output_type": "stream",
     "text": [
      "{'a': 10, 'f': 2, 'd': 80, 'c': 45, 'b': 5, 'e': 6}\n",
      "OrderedDict([('a', 10), ('b', 5), ('c', 45), ('d', 80), ('e', 6), ('f', 2)])\n"
     ]
    }
   ],
   "source": [
    "from collections import OrderedDict\n",
    "\n",
    "i_list = {'a': 10, 'f': 2, 'd': 80, 'c': 45, 'b': 5, 'e': 6}\n",
    "print(i_list)\n",
    "\n",
    "list1 = OrderedDict(dict(sorted(i_list.items())))\n",
    "print(list1)"
   ]
  },
  {
   "cell_type": "markdown",
   "id": "f1fb85ab",
   "metadata": {},
   "source": [
    "#### Question 7: Write a Python program to sort Python Dictionaries by Key or Value?"
   ]
  },
  {
   "cell_type": "code",
   "execution_count": 7,
   "id": "94a8a8ea",
   "metadata": {},
   "outputs": [],
   "source": [
    "dic={'India': 'New Delhi', 'Australia': 'Canberra', 'USA': 'Washington DC', 'Germany': 'Berlin', 'France': 'Paris'}\n",
    "def sort_dic(dic,sort_type='key'):\n",
    "    if sort_type == 'key':\n",
    "        print(dict(sorted(dic.items(), key=lambda x:x[0], reverse=False)))\n",
    "    else:\n",
    "        print(dict(sorted(dic.items(), key=lambda x:x[1], reverse=False)))"
   ]
  },
  {
   "cell_type": "code",
   "execution_count": 8,
   "id": "7e30b3f0",
   "metadata": {},
   "outputs": [
    {
     "name": "stdout",
     "output_type": "stream",
     "text": [
      "{'Australia': 'Canberra', 'France': 'Paris', 'Germany': 'Berlin', 'India': 'New Delhi', 'USA': 'Washington DC'}\n"
     ]
    }
   ],
   "source": [
    "sort_dic(dic)"
   ]
  },
  {
   "cell_type": "code",
   "execution_count": 10,
   "id": "8ead9050",
   "metadata": {},
   "outputs": [
    {
     "name": "stdout",
     "output_type": "stream",
     "text": [
      "{'Germany': 'Berlin', 'Australia': 'Canberra', 'India': 'New Delhi', 'France': 'Paris', 'USA': 'Washington DC'}\n"
     ]
    }
   ],
   "source": [
    "sort_dic(dic,'value')"
   ]
  },
  {
   "cell_type": "code",
   "execution_count": null,
   "id": "4c7a1fa6",
   "metadata": {},
   "outputs": [],
   "source": []
  }
 ],
 "metadata": {
  "kernelspec": {
   "display_name": "Python 3 (ipykernel)",
   "language": "python",
   "name": "python3"
  },
  "language_info": {
   "codemirror_mode": {
    "name": "ipython",
    "version": 3
   },
   "file_extension": ".py",
   "mimetype": "text/x-python",
   "name": "python",
   "nbconvert_exporter": "python",
   "pygments_lexer": "ipython3",
   "version": "3.9.7"
  }
 },
 "nbformat": 4,
 "nbformat_minor": 5
}
