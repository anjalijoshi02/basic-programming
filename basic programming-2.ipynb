{
 "cells": [
  {
   "cell_type": "markdown",
   "metadata": {},
   "source": [
    "# Basic programming assignment-2"
   ]
  },
  {
   "cell_type": "markdown",
   "metadata": {},
   "source": [
    "#### Question 1 : Write a Python program to convert kilometers to miles?"
   ]
  },
  {
   "cell_type": "code",
   "execution_count": 5,
   "metadata": {},
   "outputs": [
    {
     "name": "stdout",
     "output_type": "stream",
     "text": [
      "Enter length in kilometres1\n",
      "1.0 kilometres is 0.621371 miles\n"
     ]
    }
   ],
   "source": [
    "def km_to_miles(num):\n",
    "    \"\"\" this function converts kilometres to miles \"\"\"\n",
    "    return 0.621371*num\n",
    "a=float(input(\"Enter length in kilometres\"))\n",
    "print(\"{} kilometres is {} miles\".format(a,km_to_miles(a)))\n"
   ]
  },
  {
   "cell_type": "markdown",
   "metadata": {},
   "source": [
    "#### Question 2 : Write a Python program to convert Celsius to Fahrenheit?\n"
   ]
  },
  {
   "cell_type": "code",
   "execution_count": 8,
   "metadata": {},
   "outputs": [
    {
     "name": "stdout",
     "output_type": "stream",
     "text": [
      "Enter the temperature in celsius : 26\n",
      "26.0 degree celsius is 78.80000000000001 degree fahrenheit \n"
     ]
    }
   ],
   "source": [
    "def cel_to_fah(num):\n",
    "    \"\"\"this function converts temperature in celsius to fahrenheit\"\"\"\n",
    "    return num*1.8+32\n",
    "a=float(input(\"Enter the temperature in celsius : \"))\n",
    "print(\"{} degree celsius is {} degree fahrenheit \".format(a,(a*1.8 + 32)))"
   ]
  },
  {
   "cell_type": "markdown",
   "metadata": {},
   "source": [
    "####  Question 3 : Write a Python program to display calendar?\n"
   ]
  },
  {
   "cell_type": "code",
   "execution_count": 13,
   "metadata": {},
   "outputs": [
    {
     "name": "stdout",
     "output_type": "stream",
     "text": [
      "Enter calender year :2022\n",
      "                                  2022\n",
      "\n",
      "      January                   February                   March\n",
      "Mo Tu We Th Fr Sa Su      Mo Tu We Th Fr Sa Su      Mo Tu We Th Fr Sa Su\n",
      "                1  2          1  2  3  4  5  6          1  2  3  4  5  6\n",
      " 3  4  5  6  7  8  9       7  8  9 10 11 12 13       7  8  9 10 11 12 13\n",
      "10 11 12 13 14 15 16      14 15 16 17 18 19 20      14 15 16 17 18 19 20\n",
      "17 18 19 20 21 22 23      21 22 23 24 25 26 27      21 22 23 24 25 26 27\n",
      "24 25 26 27 28 29 30      28                        28 29 30 31\n",
      "31\n",
      "\n",
      "       April                      May                       June\n",
      "Mo Tu We Th Fr Sa Su      Mo Tu We Th Fr Sa Su      Mo Tu We Th Fr Sa Su\n",
      "             1  2  3                         1             1  2  3  4  5\n",
      " 4  5  6  7  8  9 10       2  3  4  5  6  7  8       6  7  8  9 10 11 12\n",
      "11 12 13 14 15 16 17       9 10 11 12 13 14 15      13 14 15 16 17 18 19\n",
      "18 19 20 21 22 23 24      16 17 18 19 20 21 22      20 21 22 23 24 25 26\n",
      "25 26 27 28 29 30         23 24 25 26 27 28 29      27 28 29 30\n",
      "                          30 31\n",
      "\n",
      "        July                     August                  September\n",
      "Mo Tu We Th Fr Sa Su      Mo Tu We Th Fr Sa Su      Mo Tu We Th Fr Sa Su\n",
      "             1  2  3       1  2  3  4  5  6  7                1  2  3  4\n",
      " 4  5  6  7  8  9 10       8  9 10 11 12 13 14       5  6  7  8  9 10 11\n",
      "11 12 13 14 15 16 17      15 16 17 18 19 20 21      12 13 14 15 16 17 18\n",
      "18 19 20 21 22 23 24      22 23 24 25 26 27 28      19 20 21 22 23 24 25\n",
      "25 26 27 28 29 30 31      29 30 31                  26 27 28 29 30\n",
      "\n",
      "      October                   November                  December\n",
      "Mo Tu We Th Fr Sa Su      Mo Tu We Th Fr Sa Su      Mo Tu We Th Fr Sa Su\n",
      "                1  2          1  2  3  4  5  6                1  2  3  4\n",
      " 3  4  5  6  7  8  9       7  8  9 10 11 12 13       5  6  7  8  9 10 11\n",
      "10 11 12 13 14 15 16      14 15 16 17 18 19 20      12 13 14 15 16 17 18\n",
      "17 18 19 20 21 22 23      21 22 23 24 25 26 27      19 20 21 22 23 24 25\n",
      "24 25 26 27 28 29 30      28 29 30                  26 27 28 29 30 31\n",
      "31\n",
      "\n"
     ]
    }
   ],
   "source": [
    "import calendar\n",
    "year=int(input(\"Enter calender year :\"))\n",
    "print(calendar.calendar(year))"
   ]
  },
  {
   "cell_type": "markdown",
   "metadata": {},
   "source": [
    "#### Question 4  : Write a Python program to solve quadratic equation?\n"
   ]
  },
  {
   "cell_type": "code",
   "execution_count": 19,
   "metadata": {},
   "outputs": [
    {
     "name": "stdout",
     "output_type": "stream",
     "text": [
      "General formula for quadratic equation : a*x^2+bx+c\n",
      "enter a 1\n",
      "enter b 2\n",
      "enter c 1\n",
      "roots are real and same ie, (-1+0j) is the solution\n"
     ]
    }
   ],
   "source": [
    "import cmath\n",
    "import math\n",
    "print(\"General formula for quadratic equation : a*x^2+bx+c\")\n",
    "a=int(input(\"enter a \"))\n",
    "b=int(input(\"enter b \"))\n",
    "c=int(input(\"enter c \"))\n",
    "d=b*b-4*a*c\n",
    "sol1=(-b+cmath.sqrt(d))/2*a\n",
    "sol2=(-b-cmath.sqrt(d))/2*a\n",
    "if d==0:\n",
    "    print(\"roots are real and same ie, {} is the solution\".format(sol1))\n",
    "elif d<0:\n",
    "    print(\"roots are imaginary and the two solutions are {} and {}\".format(sol1,sol2))\n",
    "else:\n",
    "    print(\"roots are real and distinct and the two solutions are {} and {}\".format(sol1,sol2))"
   ]
  },
  {
   "cell_type": "markdown",
   "metadata": {},
   "source": [
    "#### Question 5 : Write a Python program to swap two variables without temp variable?"
   ]
  },
  {
   "cell_type": "code",
   "execution_count": 14,
   "metadata": {},
   "outputs": [
    {
     "name": "stdout",
     "output_type": "stream",
     "text": [
      "Enter first number:2\n",
      "Enter second number :5\n",
      "Before swapping a is 2 and b is 5\n",
      "After swapping a and b are (5, 2)\n"
     ]
    }
   ],
   "source": [
    "def swap_num(a,b):\n",
    "    \"\"\"this function swaps tha value of two variables\"\"\"\n",
    "    a=a+b\n",
    "    b=a-b\n",
    "    a=a-b\n",
    "    return a,b\n",
    "a=int(input(\"Enter first number:\"))\n",
    "b=int(input(\"Enter second number :\"))\n",
    "print(\"Before swapping a is {} and b is {}\".format(a,b))\n",
    "print(\"After swapping a and b are {}\".format(swap_num(a,b)))"
   ]
  },
  {
   "cell_type": "code",
   "execution_count": null,
   "metadata": {},
   "outputs": [],
   "source": []
  }
 ],
 "metadata": {
  "kernelspec": {
   "display_name": "Python 3 (ipykernel)",
   "language": "python",
   "name": "python3"
  },
  "language_info": {
   "codemirror_mode": {
    "name": "ipython",
    "version": 3
   },
   "file_extension": ".py",
   "mimetype": "text/x-python",
   "name": "python",
   "nbconvert_exporter": "python",
   "pygments_lexer": "ipython3",
   "version": "3.9.7"
  }
 },
 "nbformat": 4,
 "nbformat_minor": 4
}
