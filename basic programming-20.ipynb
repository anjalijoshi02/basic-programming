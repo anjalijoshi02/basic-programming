{
 "cells": [
  {
   "cell_type": "markdown",
   "id": "bdebbc9a",
   "metadata": {},
   "source": [
    "# Python Basic Programming Assignment-20"
   ]
  },
  {
   "cell_type": "markdown",
   "id": "9b134ab0",
   "metadata": {},
   "source": [
    "#### QUestion 1 : Create a function that takes a list of strings and integers, and filters out the list so that it returns a list of integers only."
   ]
  },
  {
   "cell_type": "code",
   "execution_count": 1,
   "id": "e8fe65a2",
   "metadata": {},
   "outputs": [
    {
     "name": "stdout",
     "output_type": "stream",
     "text": [
      "filte_list ([1, 2, 3, 'a', 'b', 4])  ->  [1, 2, 3, 4]\n",
      "filte_list (['A', 0, 'Edabit', 1729, 'Python', '1729'])  ->  [0, 1729]\n",
      "filte_list (['Nothing', 'here'])  ->  []\n"
     ]
    }
   ],
   "source": [
    "def filter_list(l):\n",
    "    result=[]\n",
    "    for i in l:\n",
    "        if type(i)==int:\n",
    "            result.append(i)\n",
    "    print(f'filte_list ({l})  ->  {result}')\n",
    "    \n",
    "filter_list([1, 2, 3, \"a\", \"b\", 4])\n",
    "filter_list([\"A\", 0, \"Edabit\", 1729, \"Python\", \"1729\"])\n",
    "filter_list([\"Nothing\", \"here\"])"
   ]
  },
  {
   "cell_type": "markdown",
   "id": "3ed6fd26",
   "metadata": {},
   "source": [
    "#### Question 2 : Given a list of numbers, create a function which returns the list but with each element&#39;s index in the list added to itself. This means you add 0 to the number at index 0, add 1 to the  number at index 1, etc..."
   ]
  },
  {
   "cell_type": "code",
   "execution_count": 2,
   "id": "c9f7b13c",
   "metadata": {},
   "outputs": [
    {
     "name": "stdout",
     "output_type": "stream",
     "text": [
      "add_indexes ([0, 1, 2, 3, 4])  ->  [0, 1, 2, 3, 4])\n",
      "add_indexes ([1, 3, 5, 7, 9])  ->  [1, 3, 5, 7, 9])\n",
      "add_indexes ([5, 5, 5, 5, 5])  ->  [5, 5, 5, 5, 5])\n"
     ]
    }
   ],
   "source": [
    "def add_indexes(l):\n",
    "    for i in range(len(l)):\n",
    "        l[i]=l[i]+i\n",
    "    print(f'add_indexes ({l})  ->  {l})')\n",
    "\n",
    "add_indexes([0, 0, 0, 0, 0])\n",
    "add_indexes([1, 2, 3, 4, 5])\n",
    "add_indexes([5, 4, 3, 2, 1])"
   ]
  },
  {
   "cell_type": "markdown",
   "id": "62973f0a",
   "metadata": {},
   "source": [
    "#### Question 3 : Create a function that takes the height and radius of a cone as arguments and returns the volume of the cone rounded to the nearest hundredth."
   ]
  },
  {
   "cell_type": "code",
   "execution_count": 3,
   "id": "6c91de36",
   "metadata": {},
   "outputs": [
    {
     "name": "stdout",
     "output_type": "stream",
     "text": [
      "cone_volume (3,2)  -> 45.31\n",
      "cone_volume (15,6)  -> 1827.14\n",
      "cone_volume (18,0)  -> 0.00\n"
     ]
    }
   ],
   "source": [
    "import math\n",
    "def cone_volume(h,r):\n",
    "    l=math.sqrt((h**2)+(r**2))\n",
    "    volume=math.pi*(r**2)*l\n",
    "    print(f'cone_volume ({h},{r})  -> {volume:.2f}')\n",
    "cone_volume(3,2) \n",
    "cone_volume(15,6)    \n",
    "cone_volume(18,0)"
   ]
  },
  {
   "cell_type": "markdown",
   "id": "f831bfd7",
   "metadata": {},
   "source": [
    "#### Question 4 :Write a function that gives the number of dots with its corresponding triangle number of the sequence."
   ]
  },
  {
   "cell_type": "code",
   "execution_count": 4,
   "id": "2a00d690",
   "metadata": {},
   "outputs": [
    {
     "name": "stdout",
     "output_type": "stream",
     "text": [
      "triange(1)  -> 1\n",
      "triange(6)  -> 21\n",
      "triange(215)  -> 23220\n"
     ]
    }
   ],
   "source": [
    "def triangle(num):\n",
    "    print(f'triange({num})  -> {int((num)*((num+1)/2))}')\n",
    "\n",
    "triangle(1)\n",
    "triangle(6)\n",
    "triangle(215)"
   ]
  },
  {
   "cell_type": "markdown",
   "id": "c6f3b21c",
   "metadata": {},
   "source": [
    "#### Question 5 :Create a function that takes a list of numbers between 1 and 10 (excluding one number) and returns the missing number."
   ]
  },
  {
   "cell_type": "code",
   "execution_count": 5,
   "id": "a02844b6",
   "metadata": {},
   "outputs": [
    {
     "name": "stdout",
     "output_type": "stream",
     "text": [
      "missing_num ([1, 2, 3, 4, 6, 7, 8, 9, 10])  -> 5\n",
      "missing_num ([7, 2, 3, 6, 5, 9, 1, 4, 8])  -> 10\n",
      "missing_num ([10, 5, 1, 2, 4, 6, 8, 3, 9])  -> 7\n"
     ]
    }
   ],
   "source": [
    "def missing_num(l):\n",
    "    for i in range(1,11):\n",
    "        if i not in l:\n",
    "            print(f'missing_num ({l})  -> {i}')\n",
    "missing_num([1, 2, 3, 4, 6, 7, 8, 9, 10])\n",
    "missing_num([7, 2, 3, 6, 5, 9, 1, 4, 8])\n",
    "missing_num([10, 5, 1, 2, 4, 6, 8, 3, 9])"
   ]
  },
  {
   "cell_type": "code",
   "execution_count": null,
   "id": "cfcf4023",
   "metadata": {},
   "outputs": [],
   "source": []
  }
 ],
 "metadata": {
  "kernelspec": {
   "display_name": "Python 3 (ipykernel)",
   "language": "python",
   "name": "python3"
  },
  "language_info": {
   "codemirror_mode": {
    "name": "ipython",
    "version": 3
   },
   "file_extension": ".py",
   "mimetype": "text/x-python",
   "name": "python",
   "nbconvert_exporter": "python",
   "pygments_lexer": "ipython3",
   "version": "3.9.7"
  }
 },
 "nbformat": 4,
 "nbformat_minor": 5
}
