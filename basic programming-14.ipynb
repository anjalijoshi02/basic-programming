{
 "cells": [
  {
   "cell_type": "markdown",
   "id": "5e1f0558",
   "metadata": {},
   "source": [
    "# Python Basic Programming Assignment-14"
   ]
  },
  {
   "cell_type": "markdown",
   "id": "a6253f50",
   "metadata": {},
   "source": [
    "#### Question 1 : Define a class with a generator which can iterate the numbers, which are divisible by 7, between a given range 0 and n."
   ]
  },
  {
   "cell_type": "code",
   "execution_count": 1,
   "id": "fb3bafe0",
   "metadata": {},
   "outputs": [
    {
     "name": "stdout",
     "output_type": "stream",
     "text": [
      "0 7 14 21 28 35 42 49 56 63 70 77 84 91 98 105 112 119 126 133 140 147 154 161 168 175 182 189 196 "
     ]
    }
   ],
   "source": [
    "class div_generator:\n",
    "    def __init__(self,num):\n",
    "        self.num = num\n",
    "    def get_numbers(self):\n",
    "        for i in range(0,self.num+1):\n",
    "            if i%7 == 0:\n",
    "                yield i\n",
    "                \n",
    "output = div_generator(200)\n",
    "for ele in output.get_numbers():\n",
    "    print(ele,end=' ')"
   ]
  },
  {
   "cell_type": "markdown",
   "id": "bf03c27b",
   "metadata": {},
   "source": [
    "#### Question 2 : Write a program to compute the frequency of the words from the input. The output should output after sorting the key alphanumerically."
   ]
  },
  {
   "cell_type": "code",
   "execution_count": 10,
   "id": "8b32576f",
   "metadata": {},
   "outputs": [
    {
     "name": "stdout",
     "output_type": "stream",
     "text": [
      "2:2   3.:1   3?:1   New:1   Python:5   Read:1   and:1   between:1   choosing:1   or:2   to:1   "
     ]
    }
   ],
   "source": [
    "def frequency_words(string):\n",
    "    frequency={}\n",
    "    for i in string.split(' '):\n",
    "        if(frequency.get(i) == None):\n",
    "            frequency[i] = 1\n",
    "        else:\n",
    "            frequency[i] += 1 \n",
    "    for i in sorted(frequency):\n",
    "        print(f'{i}:{frequency[i]}',end=\"   \")\n",
    "frequency_words(\"New to Python or choosing between Python 2 and Python 3? Read Python 2 or Python 3.\")"
   ]
  },
  {
   "cell_type": "markdown",
   "id": "eca49187",
   "metadata": {},
   "source": [
    "#### Question 3 : Define a class Person and its two child classes: Male and Female. All classes have a method \"getGender\" which can print \"Male\" for Male class and \"Female\" for Female class. ?"
   ]
  },
  {
   "cell_type": "code",
   "execution_count": 3,
   "id": "a505caee",
   "metadata": {},
   "outputs": [
    {
     "name": "stdout",
     "output_type": "stream",
     "text": [
      "Male\n",
      "Female\n"
     ]
    }
   ],
   "source": [
    "class person():\n",
    "    def getGender():\n",
    "        pass\n",
    "    \n",
    "class Male(person):\n",
    "    def getGender():\n",
    "        print(\"Male\")\n",
    "        \n",
    "class Female(person):\n",
    "    def getGender():\n",
    "        print(\"Female\")\n",
    "\n",
    "Male.getGender()\n",
    "Female.getGender()"
   ]
  },
  {
   "cell_type": "markdown",
   "id": "263e553a",
   "metadata": {},
   "source": [
    "#### Question 4 : Please write a program to generate all sentences where subject is in [\"I\", \"You\"] and verb is in [\"Play\", \"Love\"] and the object is in [\"Hockey\",\"Football\"] ?"
   ]
  },
  {
   "cell_type": "code",
   "execution_count": 4,
   "id": "4e484a44",
   "metadata": {},
   "outputs": [
    {
     "name": "stdout",
     "output_type": "stream",
     "text": [
      "I Play Football\n",
      "I Love Football\n",
      "I Play Hockey\n",
      "I Love Hockey\n",
      "You Play Football\n",
      "You Love Football\n",
      "You Play Hockey\n",
      "You Love Hockey\n"
     ]
    }
   ],
   "source": [
    "def sentences():\n",
    "    verb=['Play','Love']\n",
    "    Object=['Football','Hockey']\n",
    "    subject=['I','You']\n",
    "    for sub in subject:\n",
    "        for obj in Object:\n",
    "            for ver in verb:\n",
    "                print(f'{sub} {ver} {obj}')\n",
    "sentences()"
   ]
  },
  {
   "cell_type": "markdown",
   "id": "1a692980",
   "metadata": {},
   "source": [
    "#### Question 5 :Please write a program to compress and decompress the string \"hello world!hello world!hello world!hello world!\"."
   ]
  },
  {
   "cell_type": "code",
   "execution_count": 5,
   "id": "991da41b",
   "metadata": {},
   "outputs": [
    {
     "name": "stdout",
     "output_type": "stream",
     "text": [
      "compressed string : b'x\\x9c\\xcbH\\xcd\\xc9\\xc9W(\\xcf/\\xcaIQ\\xcc \\x82\\r\\x00\\xbd[\\x11\\xf5'\n",
      "decompressed string :  b'hello world!hello world!hello world!hello world!'\n"
     ]
    }
   ],
   "source": [
    "import zlib\n",
    "string = 'hello world!hello world!hello world!hello world!'.encode()\n",
    "com = zlib.compress(string)\n",
    "print(\"compressed string :\",com)\n",
    "print(\"decompressed string : \",zlib.decompress(com))"
   ]
  },
  {
   "cell_type": "markdown",
   "id": "1b59c570",
   "metadata": {},
   "source": [
    "#### Question 6 :  Please write a binary search function which searches an item in a sorted list. The function should return the index of element to be searched in the list."
   ]
  },
  {
   "cell_type": "code",
   "execution_count": 6,
   "id": "1f1b29e8",
   "metadata": {},
   "outputs": [],
   "source": [
    "def search(l,char):\n",
    "    sorted(l)\n",
    "    k=0\n",
    "    for i in l:\n",
    "        if i==char:\n",
    "            return l.index(i)\n",
    "        else:\n",
    "            k=1\n",
    "    if k==1:\n",
    "        print('element not in list')"
   ]
  },
  {
   "cell_type": "code",
   "execution_count": 7,
   "id": "53edbe13",
   "metadata": {},
   "outputs": [
    {
     "data": {
      "text/plain": [
       "2"
      ]
     },
     "execution_count": 7,
     "metadata": {},
     "output_type": "execute_result"
    }
   ],
   "source": [
    "search([1,2,3,4,3,2,4],3)"
   ]
  },
  {
   "cell_type": "code",
   "execution_count": 8,
   "id": "781fb201",
   "metadata": {},
   "outputs": [
    {
     "data": {
      "text/plain": [
       "3"
      ]
     },
     "execution_count": 8,
     "metadata": {},
     "output_type": "execute_result"
    }
   ],
   "source": [
    "search([1,2,3,4,5,4,6,7,5,8],4)"
   ]
  },
  {
   "cell_type": "code",
   "execution_count": null,
   "id": "8dd0e0fc",
   "metadata": {},
   "outputs": [],
   "source": []
  }
 ],
 "metadata": {
  "kernelspec": {
   "display_name": "Python 3 (ipykernel)",
   "language": "python",
   "name": "python3"
  },
  "language_info": {
   "codemirror_mode": {
    "name": "ipython",
    "version": 3
   },
   "file_extension": ".py",
   "mimetype": "text/x-python",
   "name": "python",
   "nbconvert_exporter": "python",
   "pygments_lexer": "ipython3",
   "version": "3.9.7"
  }
 },
 "nbformat": 4,
 "nbformat_minor": 5
}
