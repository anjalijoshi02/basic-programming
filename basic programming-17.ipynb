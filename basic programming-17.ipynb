{
 "cells": [
  {
   "cell_type": "markdown",
   "id": "29136ebe",
   "metadata": {},
   "source": [
    "# Python Basic Programming Assignment-17"
   ]
  },
  {
   "cell_type": "markdown",
   "id": "1be6175e",
   "metadata": {},
   "source": [
    "#### Question 1 :Create a function that takes three arguments a, b, c and returns the sum of the numbers that are evenly divided by c from the range a, b inclusive."
   ]
  },
  {
   "cell_type": "code",
   "execution_count": 1,
   "id": "e4473408",
   "metadata": {},
   "outputs": [
    {
     "name": "stdout",
     "output_type": "stream",
     "text": [
      "evenly_divisible (1,10,20) -> 0\n",
      "evenly_divisible (1,10,2) -> 30\n",
      "evenly_divisible (1,10,3) -> 18\n"
     ]
    }
   ],
   "source": [
    "def evenly_divisible(a,b,c):\n",
    "    sum=0\n",
    "    for i in range(a,b+1):\n",
    "        if i%c==0:\n",
    "            sum+=i\n",
    "    print(f'evenly_divisible ({a},{b},{c}) -> {sum}')\n",
    "evenly_divisible(1,10,20)\n",
    "evenly_divisible(1,10,2)\n",
    "evenly_divisible(1,10,3)"
   ]
  },
  {
   "cell_type": "markdown",
   "id": "f95c61ea",
   "metadata": {},
   "source": [
    "#### Question 2 : Create a function that returns True if a given inequality expression is correct and False otherwise."
   ]
  },
  {
   "cell_type": "code",
   "execution_count": 2,
   "id": "f18c837f",
   "metadata": {},
   "outputs": [
    {
     "name": "stdout",
     "output_type": "stream",
     "text": [
      "output -> True\n",
      "output -> False\n",
      "output -> True\n"
     ]
    }
   ],
   "source": [
    "def correct_signs(string):\n",
    "    for i in range(len(string)):\n",
    "        result=eval(string)\n",
    "    return result \n",
    "print(f'output -> {correct_signs(\"3<7<11\")}')\n",
    "print(f'output -> {correct_signs(\"13 > 44 > 33 > 1\")}')\n",
    "print(f'output -> {correct_signs(\"1 < 2 < 6 < 9 > 3\")}')"
   ]
  },
  {
   "cell_type": "markdown",
   "id": "bb88cadd",
   "metadata": {},
   "source": [
    "#### Question 3: Create a function that replaces all the vowels in a string with a specified character."
   ]
  },
  {
   "cell_type": "code",
   "execution_count": 3,
   "id": "36b0af56",
   "metadata": {},
   "outputs": [
    {
     "name": "stdout",
     "output_type": "stream",
     "text": [
      " replace_vowels (the aardvark) -> th# ##rdv#rk\n",
      " replace_vowels (minnie mouse) -> m?nn?? m??s?\n",
      " replace_vowels (shakespeare) -> sh*k*sp**r*\n"
     ]
    }
   ],
   "source": [
    "def replace_vowels(string,char):\n",
    "    result=''\n",
    "    vowels=['a','e','i','o','u']\n",
    "    for i in string:\n",
    "        if i in vowels:\n",
    "            result+=char\n",
    "        else:\n",
    "            result+=i\n",
    "        \n",
    "    print(f' replace_vowels ({string}) -> {(result)}')\n",
    "replace_vowels(\"the aardvark\", \"#\")\n",
    "replace_vowels(\"minnie mouse\",'?')\n",
    "replace_vowels(\"shakespeare\",'*')"
   ]
  },
  {
   "cell_type": "markdown",
   "id": "4b4a0234",
   "metadata": {},
   "source": [
    "#### Question 4: Write a function that calculates the factorial of a number recursively."
   ]
  },
  {
   "cell_type": "code",
   "execution_count": 4,
   "id": "b8540f63",
   "metadata": {},
   "outputs": [
    {
     "name": "stdout",
     "output_type": "stream",
     "text": [
      "factorial (5) -> 120\n",
      "factorial (3) -> 6\n",
      "factorial (1) -> 1\n",
      "factorial (0) -> 1\n"
     ]
    }
   ],
   "source": [
    "def factorial(num):\n",
    "    if num==0:\n",
    "        return 1\n",
    "    return num*factorial(num-1)\n",
    "print(f'factorial ({5}) -> {factorial(5)}')\n",
    "print(f'factorial ({3}) -> {factorial(3)}')\n",
    "print(f'factorial ({1}) -> {factorial(1)}')\n",
    "print(f'factorial ({0}) -> {factorial(0)}')"
   ]
  },
  {
   "cell_type": "markdown",
   "id": "1913d532",
   "metadata": {},
   "source": [
    "#### Question 5 :Create a function that computes the hamming distance between two strings."
   ]
  },
  {
   "cell_type": "code",
   "execution_count": 5,
   "id": "9c70396b",
   "metadata": {},
   "outputs": [
    {
     "name": "stdout",
     "output_type": "stream",
     "text": [
      "hamming_distance ('strong', 'strung') -> 1\n",
      "hamming_distance ('abcde', 'abcde') -> 0\n",
      "hamming_distance ('abcde', 'bcdef') -> 5\n"
     ]
    }
   ],
   "source": [
    "def hamming_distance(s1,s2):\n",
    "    if len(s1)==len(s2):\n",
    "        count=0\n",
    "        for i in range(len(s1)):\n",
    "            if s1[i]!=s2[i]:\n",
    "                count+=1\n",
    "    print(f'hamming_distance {s1,s2} -> {count}')\n",
    "\n",
    "hamming_distance(\"strong\",\"strung\")\n",
    "hamming_distance('abcde','abcde')\n",
    "hamming_distance('abcde','bcdef')"
   ]
  }
 ],
 "metadata": {
  "kernelspec": {
   "display_name": "Python 3 (ipykernel)",
   "language": "python",
   "name": "python3"
  },
  "language_info": {
   "codemirror_mode": {
    "name": "ipython",
    "version": 3
   },
   "file_extension": ".py",
   "mimetype": "text/x-python",
   "name": "python",
   "nbconvert_exporter": "python",
   "pygments_lexer": "ipython3",
   "version": "3.9.7"
  }
 },
 "nbformat": 4,
 "nbformat_minor": 5
}
