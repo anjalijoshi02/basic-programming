{
 "cells": [
  {
   "cell_type": "markdown",
   "id": "0f733bd6",
   "metadata": {},
   "source": [
    "# Python Basic Programming Assignment-23"
   ]
  },
  {
   "cell_type": "markdown",
   "id": "c9f9e2b5",
   "metadata": {},
   "source": [
    "#### Question1 : Create a function that takes a number as an argument and returns True or False depending on whether the number is symmetrical or not. A number is symmetrical when it is the same as its reverse."
   ]
  },
  {
   "cell_type": "code",
   "execution_count": 1,
   "id": "618fc88e",
   "metadata": {},
   "outputs": [
    {
     "name": "stdout",
     "output_type": "stream",
     "text": [
      "is_symmetrical(7227)-> True\n",
      "is_symmetrical(12567)-> False\n",
      "is_symmetrical(44444444)-> True\n",
      "is_symmetrical(9939)-> False\n",
      "is_symmetrical(1112111)-> True\n"
     ]
    }
   ],
   "source": [
    "def is_symmetrical(num):\n",
    "    num=str(num)\n",
    "    if num==num[::-1]:\n",
    "        print(f'is_symmetrical({int(num)})-> {True}')\n",
    "    else:\n",
    "        print(f'is_symmetrical({int(num)})-> {False}')\n",
    "is_symmetrical(7227)\n",
    "is_symmetrical(12567)\n",
    "is_symmetrical(44444444)\n",
    "is_symmetrical(9939)\n",
    "is_symmetrical(1112111)\n"
   ]
  },
  {
   "cell_type": "markdown",
   "id": "9b7b66ee",
   "metadata": {},
   "source": [
    "#### Question 2 : Given a string of numbers separated by a comma and space, return the product of the numbers."
   ]
  },
  {
   "cell_type": "code",
   "execution_count": 2,
   "id": "77aedc0f",
   "metadata": {},
   "outputs": [
    {
     "name": "stdout",
     "output_type": "stream",
     "text": [
      "multiply_nums(2, 3) -> 6\n",
      "multiply_nums(1, 2, 3, 4) -> 24\n",
      "multiply_nums(54, 75, 453, 0) -> 0\n",
      "multiply_nums(10, -2) -> -20\n"
     ]
    }
   ],
   "source": [
    "def multiply_nums(string):\n",
    "    l=[]\n",
    "    l = string.replace(' ','').split(',')\n",
    "    result = 1\n",
    "    for i in l:\n",
    "        result*= int(i)\n",
    "    print(f'multiply_nums({string}) -> {result}')\n",
    "multiply_nums(\"2, 3\")\n",
    "multiply_nums(\"1, 2, 3, 4\")\n",
    "multiply_nums(\"54, 75, 453, 0\")\n",
    "multiply_nums(\"10, -2\")"
   ]
  },
  {
   "cell_type": "markdown",
   "id": "2ce17041",
   "metadata": {},
   "source": [
    "#### Question 3 : Create a function that squares every digit of a number."
   ]
  },
  {
   "cell_type": "code",
   "execution_count": 3,
   "id": "9d5b35da",
   "metadata": {},
   "outputs": [
    {
     "name": "stdout",
     "output_type": "stream",
     "text": [
      "9119 ➞ 811181\n",
      "2483 ➞ 416649\n",
      "3212 ➞ 9414\n"
     ]
    }
   ],
   "source": [
    "def square_digits(num):\n",
    "    list1 = [str(int(i)**2) for i in str(num)]\n",
    "    list2 = ''.join(list1)\n",
    "    print(f'{num} ➞ {int(list2)}')\n",
    "square_digits(9119)\n",
    "square_digits(2483)\n",
    "square_digits(3212)"
   ]
  },
  {
   "cell_type": "markdown",
   "id": "3b115f18",
   "metadata": {},
   "source": [
    "#### Question 4 : Create a function that sorts a list and removes all duplicate items from it."
   ]
  },
  {
   "cell_type": "code",
   "execution_count": 4,
   "id": "fa72fc73",
   "metadata": {},
   "outputs": [
    {
     "name": "stdout",
     "output_type": "stream",
     "text": [
      "setify([1, 3, 3, 5, 5])-> [1, 3, 5]\n",
      "setify([4, 4, 4, 4])-> [4]\n",
      "setify([5, 7, 8, 9, 10, 15])-> [5, 7, 8, 9, 10, 15]\n",
      "setify([3, 3, 3, 2, 1])-> [1, 2, 3]\n"
     ]
    }
   ],
   "source": [
    "def setify(l):\n",
    "    print(f'setify({l})-> {sorted(set(l))}')\n",
    "setify([1, 3, 3, 5, 5]) \n",
    "setify([4, 4, 4, 4])\n",
    "setify([5, 7, 8, 9, 10, 15])\n",
    "setify([3, 3, 3, 2, 1])"
   ]
  },
  {
   "cell_type": "markdown",
   "id": "0a0db349",
   "metadata": {},
   "source": [
    "#### Question 5 :Create a function that returns the mean of all digits."
   ]
  },
  {
   "cell_type": "code",
   "execution_count": 6,
   "id": "9ae266de",
   "metadata": {},
   "outputs": [
    {
     "name": "stdout",
     "output_type": "stream",
     "text": [
      "mean(42) -> 3\n",
      "mean(12345) -> 3\n",
      "mean(666) -> 6\n"
     ]
    }
   ],
   "source": [
    "def mean(num):\n",
    "    list1=[int(i) for i in str(num)]\n",
    "    count=sum(list1)\n",
    "    result=count//(len(list1))\n",
    "    print(f'mean({num}) -> {result}')\n",
    "mean(42)\n",
    "mean(12345)\n",
    "mean(666)"
   ]
  }
 ],
 "metadata": {
  "kernelspec": {
   "display_name": "Python 3 (ipykernel)",
   "language": "python",
   "name": "python3"
  },
  "language_info": {
   "codemirror_mode": {
    "name": "ipython",
    "version": 3
   },
   "file_extension": ".py",
   "mimetype": "text/x-python",
   "name": "python",
   "nbconvert_exporter": "python",
   "pygments_lexer": "ipython3",
   "version": "3.9.7"
  }
 },
 "nbformat": 4,
 "nbformat_minor": 5
}
