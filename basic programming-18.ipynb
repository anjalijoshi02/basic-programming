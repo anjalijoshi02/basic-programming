{
 "cells": [
  {
   "cell_type": "markdown",
   "id": "80da0b69",
   "metadata": {},
   "source": [
    "# Python Basic Programming assignment-18"
   ]
  },
  {
   "cell_type": "markdown",
   "id": "0dee6e59",
   "metadata": {},
   "source": [
    "#### Question 1 :Create a function that takes a list of non-negative integers and strings and return a new list without the strings."
   ]
  },
  {
   "cell_type": "code",
   "execution_count": 1,
   "id": "6ac68918",
   "metadata": {},
   "outputs": [
    {
     "name": "stdout",
     "output_type": "stream",
     "text": [
      "filte_list ([1, 2, 'a', 'b'])  ->  [1, 2]\n",
      "filte_list ([1, 'a', 'b', 0, 15])  ->  [1, 0, 15]\n",
      "filte_list ([1, 2, 'aasf', '1', '123', 123])  ->  [1, 2, 123]\n"
     ]
    }
   ],
   "source": [
    "def filter_list(l):\n",
    "    result=[]\n",
    "    for i in l:\n",
    "        if type(i)==int:\n",
    "            result.append(i)\n",
    "    print(f'filte_list ({l})  ->  {result}')\n",
    "filter_list([1, 2, \"a\", \"b\"])\n",
    "filter_list([1, \"a\", \"b\", 0, 15])\n",
    "filter_list([1, 2, \"aasf\", \"1\", \"123\", 123])"
   ]
  },
  {
   "cell_type": "markdown",
   "id": "10b8dd9b",
   "metadata": {},
   "source": [
    "####  question 2 :The &quot;Reverser&quot; takes a string as input and returns that string in reverse order, with the opposite case."
   ]
  },
  {
   "cell_type": "code",
   "execution_count": 2,
   "id": "7bf84c15",
   "metadata": {},
   "outputs": [
    {
     "name": "stdout",
     "output_type": "stream",
     "text": [
      "reverse (Hello World) -> dlroW olleH\n",
      "reverse (ReVeRsE) -> EsReVeR\n",
      "reverse (Radar) -> radaR\n"
     ]
    }
   ],
   "source": [
    "def reverse(string):\n",
    "    new=string[::-1]\n",
    "    new.swapcase()\n",
    "    print(f'reverse ({string}) -> {new}')\n",
    "reverse('Hello World')\n",
    "reverse(\"ReVeRsE\")\n",
    "reverse(\"Radar\")"
   ]
  },
  {
   "cell_type": "markdown",
   "id": "b299d6e1",
   "metadata": {},
   "source": [
    "#### Question 3 :Your task is to unpack the list writeyourcodehere into three variables, being first, middle, and last, with middle being everything in between the first and last element. Then print all three variables."
   ]
  },
  {
   "cell_type": "code",
   "execution_count": 3,
   "id": "560dfa54",
   "metadata": {},
   "outputs": [
    {
     "name": "stdout",
     "output_type": "stream",
     "text": [
      "first -> 1\n",
      "middle -> [2, 3, 4, 5]\n",
      "last -> 6\n"
     ]
    }
   ],
   "source": [
    "first, *middle, last = [1,2,3,4,5,6]  #*middle can take any number of arguments\n",
    "print(f'first -> {first}')\n",
    "print(f'middle -> {middle}')\n",
    "print(f'last -> {last}')"
   ]
  },
  {
   "cell_type": "markdown",
   "id": "dc48bf1d",
   "metadata": {},
   "source": [
    "#### Question 4 :Write a function that calculates the factorial of a number recursively."
   ]
  },
  {
   "cell_type": "code",
   "execution_count": 4,
   "id": "4094027e",
   "metadata": {},
   "outputs": [
    {
     "name": "stdout",
     "output_type": "stream",
     "text": [
      "factorial(5) -> 120\n",
      "factorial(3) -> 6\n",
      "factorial(1) -> 1\n",
      "factorial(0) -> 1\n"
     ]
    }
   ],
   "source": [
    "def factorial(num):\n",
    "    if num==0:\n",
    "        return 1\n",
    "    return num*factorial(num-1)\n",
    "print(f'factorial(5) -> {factorial(5)}')\n",
    "print(f'factorial(3) -> {factorial(3)}')\n",
    "print(f'factorial(1) -> {factorial(1)}')\n",
    "print(f'factorial(0) -> {factorial(0)}')"
   ]
  },
  {
   "cell_type": "markdown",
   "id": "1cb22b05",
   "metadata": {},
   "source": [
    "#### Question 5 :Write a function that moves all elements of one type to the end of the list."
   ]
  },
  {
   "cell_type": "code",
   "execution_count": 5,
   "id": "49e17f3f",
   "metadata": {},
   "outputs": [
    {
     "name": "stdout",
     "output_type": "stream",
     "text": [
      "move_to_end([1, 3, 2, 4, 4, 1]) -> [3, 2, 4, 4, 1, 1]\n",
      "move_to_end([7, 8, 9, 1, 2, 3, 4]) -> [7, 8, 1, 2, 3, 4, 9]\n",
      "move_to_end(['a', 'a', 'a', 'b']) -> ['b', 'a', 'a', 'a']\n"
     ]
    }
   ],
   "source": [
    "def move_to_end(l,num):\n",
    "    first_end = []\n",
    "    second_end = []\n",
    "    for i in l:\n",
    "        if i == num:\n",
    "            second_end.append(i)\n",
    "        else:\n",
    "            first_end.append(i)\n",
    "    first_end.extend(second_end)\n",
    "    print(f'move_to_end({l}) -> {first_end}')\n",
    "move_to_end([1, 3, 2, 4, 4, 1], 1)\n",
    "move_to_end([7, 8, 9, 1, 2, 3, 4], 9)\n",
    "move_to_end([\"a\", \"a\", \"a\", \"b\"], \"a\")"
   ]
  },
  {
   "cell_type": "code",
   "execution_count": null,
   "id": "9d400793",
   "metadata": {},
   "outputs": [],
   "source": []
  }
 ],
 "metadata": {
  "kernelspec": {
   "display_name": "Python 3 (ipykernel)",
   "language": "python",
   "name": "python3"
  },
  "language_info": {
   "codemirror_mode": {
    "name": "ipython",
    "version": 3
   },
   "file_extension": ".py",
   "mimetype": "text/x-python",
   "name": "python",
   "nbconvert_exporter": "python",
   "pygments_lexer": "ipython3",
   "version": "3.9.7"
  }
 },
 "nbformat": 4,
 "nbformat_minor": 5
}
