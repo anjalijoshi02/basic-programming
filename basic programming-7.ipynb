{
 "cells": [
  {
   "cell_type": "markdown",
   "id": "ef657eb7",
   "metadata": {},
   "source": [
    "# Python Basic Programming Assignment-7"
   ]
  },
  {
   "cell_type": "markdown",
   "id": "d0f0582e",
   "metadata": {},
   "source": [
    "#### Question 1 : Write a Python Program to find sum of array?"
   ]
  },
  {
   "cell_type": "code",
   "execution_count": 1,
   "id": "9017ecd8",
   "metadata": {},
   "outputs": [
    {
     "data": {
      "text/plain": [
       "55"
      ]
     },
     "execution_count": 1,
     "metadata": {},
     "output_type": "execute_result"
    }
   ],
   "source": [
    "def sum_array(array):\n",
    "    sum=0\n",
    "    for i in array:\n",
    "        sum=sum+i\n",
    "    return sum\n",
    "array=[1,2,3,4,5,6,7,8,9,10]\n",
    "sum_array(array)"
   ]
  },
  {
   "cell_type": "markdown",
   "id": "0e0a49e0",
   "metadata": {},
   "source": [
    "#### Question 2 : Write a Python Program to find largest element in an array?"
   ]
  },
  {
   "cell_type": "code",
   "execution_count": 3,
   "id": "d9f659ff",
   "metadata": {},
   "outputs": [
    {
     "data": {
      "text/plain": [
       "10"
      ]
     },
     "execution_count": 3,
     "metadata": {},
     "output_type": "execute_result"
    }
   ],
   "source": [
    "def largest(array):\n",
    "    return max(array)\n",
    "array=[1,2,3,4,5,6,7,8,9,10]\n",
    "largest(array)"
   ]
  },
  {
   "cell_type": "markdown",
   "id": "ed9155e9",
   "metadata": {},
   "source": [
    "#### Question 3 : Write a Python Program for array rotation?"
   ]
  },
  {
   "cell_type": "code",
   "execution_count": 5,
   "id": "d9bcb811",
   "metadata": {},
   "outputs": [
    {
     "data": {
      "text/plain": [
       "[10, 9, 8, 7, 6, 5, 4, 3, 2, 1]"
      ]
     },
     "execution_count": 5,
     "metadata": {},
     "output_type": "execute_result"
    }
   ],
   "source": [
    "def rotate_array(array):\n",
    "    return array[::-1]\n",
    "array=[1,2,3,4,5,6,7,8,9,10]\n",
    "rotate_array(array)"
   ]
  },
  {
   "cell_type": "markdown",
   "id": "96ac4d0d",
   "metadata": {},
   "source": [
    "#### Question 4 : Write a Python Program to Split the array and add the first part to the end?"
   ]
  },
  {
   "cell_type": "code",
   "execution_count": 10,
   "id": "c9b8fed2",
   "metadata": {},
   "outputs": [],
   "source": [
    "def split_join(array):\n",
    "    array1=[]\n",
    "    array2=[]\n",
    "    for i in range(len(array)//2):\n",
    "        array1.append(array[i])\n",
    "    for i in range(len(array)//2,len(array)):\n",
    "        array2.append(array[i])\n",
    "    return array2+array1\n",
    "    "
   ]
  },
  {
   "cell_type": "code",
   "execution_count": 11,
   "id": "23b098d2",
   "metadata": {},
   "outputs": [
    {
     "data": {
      "text/plain": [
       "[6, 7, 8, 9, 10, 1, 2, 3, 4, 5]"
      ]
     },
     "execution_count": 11,
     "metadata": {},
     "output_type": "execute_result"
    }
   ],
   "source": [
    "array=[1,2,3,4,5,6,7,8,9,10]\n",
    "split_join(array)"
   ]
  },
  {
   "cell_type": "markdown",
   "id": "156dd5f9",
   "metadata": {},
   "source": [
    "#### Question 5 : Write a Python Program to check if given array is Monotonic?"
   ]
  },
  {
   "cell_type": "code",
   "execution_count": 1,
   "id": "69c6b1ae",
   "metadata": {},
   "outputs": [],
   "source": [
    "def isMonotonic(arr):\n",
    "    if(all(arr[i]<=arr[i+1] for i in range(len(arr)-1)) or all(arr[i]>=arr[i+1] for i in range(len(arr)-1))):\n",
    "        print(f'Array {arr} is Monotonic')\n",
    "    else:\n",
    "        print(f'Array {arr} is Not Monotonic')"
   ]
  },
  {
   "cell_type": "code",
   "execution_count": 4,
   "id": "92267004",
   "metadata": {},
   "outputs": [
    {
     "name": "stdout",
     "output_type": "stream",
     "text": [
      "Array [1, 2, 3, 4, 5] is Monotonic\n",
      "Array [1, 2, 3, 5, 4] is Not Monotonic\n"
     ]
    }
   ],
   "source": [
    "isMonotonic([1,2,3,4,5])\n",
    "isMonotonic([1,2,3,5,4])"
   ]
  },
  {
   "cell_type": "code",
   "execution_count": null,
   "id": "9439a80a",
   "metadata": {},
   "outputs": [],
   "source": []
  }
 ],
 "metadata": {
  "kernelspec": {
   "display_name": "Python 3 (ipykernel)",
   "language": "python",
   "name": "python3"
  },
  "language_info": {
   "codemirror_mode": {
    "name": "ipython",
    "version": 3
   },
   "file_extension": ".py",
   "mimetype": "text/x-python",
   "name": "python",
   "nbconvert_exporter": "python",
   "pygments_lexer": "ipython3",
   "version": "3.9.7"
  }
 },
 "nbformat": 4,
 "nbformat_minor": 5
}
