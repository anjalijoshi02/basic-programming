{
 "cells": [
  {
   "cell_type": "markdown",
   "id": "942cb50b",
   "metadata": {},
   "source": [
    "# Programming basic assignment -1"
   ]
  },
  {
   "cell_type": "markdown",
   "id": "d88edc2d",
   "metadata": {},
   "source": [
    "#### Question 1:Write a Python program to print &quot;Hello Python&quot;?"
   ]
  },
  {
   "cell_type": "code",
   "execution_count": 1,
   "id": "5cfb0425",
   "metadata": {},
   "outputs": [
    {
     "name": "stdout",
     "output_type": "stream",
     "text": [
      "Hello Python\n"
     ]
    }
   ],
   "source": [
    "print(\"Hello Python\")"
   ]
  },
  {
   "cell_type": "markdown",
   "id": "9b47252d",
   "metadata": {},
   "source": [
    "#### Question 2 : Write a Python program to do arithmetical operations addition and division.?"
   ]
  },
  {
   "cell_type": "code",
   "execution_count": 4,
   "id": "42baf79f",
   "metadata": {},
   "outputs": [
    {
     "name": "stdout",
     "output_type": "stream",
     "text": [
      "25\n",
      "-5\n",
      "150\n",
      "0.6666666666666666\n",
      "0\n"
     ]
    }
   ],
   "source": [
    "a=10\n",
    "b=15\n",
    "print(a+b)     #25\n",
    "print(a-b)     #-5\n",
    "print(a*b)     #150\n",
    "print (a/b)    #0.66\n",
    "print(a//b)    #0"
   ]
  },
  {
   "cell_type": "markdown",
   "id": "1f67a3bf",
   "metadata": {},
   "source": [
    "#### Question 3 : Write a Python program to find the area of a triangle?"
   ]
  },
  {
   "cell_type": "code",
   "execution_count": 8,
   "id": "3165cede",
   "metadata": {},
   "outputs": [
    {
     "name": "stdout",
     "output_type": "stream",
     "text": [
      "Enter the length of base 5\n",
      "Enter the height of triangle 6\n",
      "Area of Triangle of base 5.0 and height 6.0 is 15.0\n"
     ]
    }
   ],
   "source": [
    "base= float(input(\"Enter the length of base \"))\n",
    "height= float(input(\"Enter the height of triangle \"))\n",
    "print(\"Area of Triangle of base {0} and height {1} is {2}\".format(base,height,(base*height)/2))"
   ]
  },
  {
   "cell_type": "markdown",
   "id": "989d1c12",
   "metadata": {},
   "source": [
    "#### Question 4: Write a Python program to swap two variables?"
   ]
  },
  {
   "cell_type": "code",
   "execution_count": 10,
   "id": "d36c6ff7",
   "metadata": {},
   "outputs": [
    {
     "name": "stdout",
     "output_type": "stream",
     "text": [
      "before swapping value of a and b is  10   15\n",
      "after swapping value of a and b is  15   10\n"
     ]
    }
   ],
   "source": [
    "a=10\n",
    "b=15\n",
    "print(\"before swapping value of a and b is \",a, \" \",b)\n",
    "a,b=b,a\n",
    "print(\"after swapping value of a and b is \", a,\" \",b)"
   ]
  },
  {
   "cell_type": "code",
   "execution_count": 12,
   "id": "2ffbd99b",
   "metadata": {},
   "outputs": [
    {
     "name": "stdout",
     "output_type": "stream",
     "text": [
      "enter a number 5\n",
      "enter another number 8\n",
      "before swapping a is 5 and b is 8 \n",
      "After swapping a is 8 and b is 5 \n"
     ]
    }
   ],
   "source": [
    "#alternate method \n",
    "a=int(input(\"enter a number \"))\n",
    "b=int (input(\"enter another number \"))\n",
    "print(\"before swapping a is {0} and b is {1} \".format(a,b))\n",
    "a,b=b,a\n",
    "print(\"After swapping a is {0} and b is {1} \".format(a,b))"
   ]
  },
  {
   "cell_type": "markdown",
   "id": "6c8abe48",
   "metadata": {},
   "source": [
    "#### Question 5 : Write a Python program to generate a random number?"
   ]
  },
  {
   "cell_type": "code",
   "execution_count": 20,
   "id": "f2e6d878",
   "metadata": {},
   "outputs": [
    {
     "name": "stdout",
     "output_type": "stream",
     "text": [
      "4\n"
     ]
    }
   ],
   "source": [
    "from random import randint\n",
    "a=randint(0,10)    # randint randomly assigns any value to a in the range 0 to 10\n",
    "print(a)"
   ]
  },
  {
   "cell_type": "code",
   "execution_count": null,
   "id": "6fdf7546",
   "metadata": {},
   "outputs": [],
   "source": []
  },
  {
   "cell_type": "code",
   "execution_count": null,
   "id": "6cee6c59",
   "metadata": {},
   "outputs": [],
   "source": []
  }
 ],
 "metadata": {
  "kernelspec": {
   "display_name": "Python 3 (ipykernel)",
   "language": "python",
   "name": "python3"
  },
  "language_info": {
   "codemirror_mode": {
    "name": "ipython",
    "version": 3
   },
   "file_extension": ".py",
   "mimetype": "text/x-python",
   "name": "python",
   "nbconvert_exporter": "python",
   "pygments_lexer": "ipython3",
   "version": "3.9.7"
  }
 },
 "nbformat": 4,
 "nbformat_minor": 5
}
