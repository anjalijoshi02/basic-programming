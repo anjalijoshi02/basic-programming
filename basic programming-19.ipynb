{
 "cells": [
  {
   "cell_type": "markdown",
   "id": "d0d65d90",
   "metadata": {},
   "source": [
    "# Python Basic Programming Assignment-19"
   ]
  },
  {
   "cell_type": "markdown",
   "id": "d4a08cb7",
   "metadata": {},
   "source": [
    "#### Question 1 : Create a function that takes a string and returns a string in which each character is repeated once."
   ]
  },
  {
   "cell_type": "code",
   "execution_count": 1,
   "id": "7bbd6876",
   "metadata": {},
   "outputs": [
    {
     "name": "stdout",
     "output_type": "stream",
     "text": [
      " double_char (String)  ->  SSttrriinngg\n",
      " double_char (Hello World!)  ->  HHeelllloo  WWoorrlldd!!\n",
      " double_char (1234!_)  ->  11223344!!__\n"
     ]
    }
   ],
   "source": [
    "def double_char(string):\n",
    "    result=''\n",
    "    for i in string:\n",
    "        result+=2*i\n",
    "    print(f' double_char ({string})  ->  {result}')\n",
    "\n",
    "double_char(\"String\")\n",
    "double_char(\"Hello World!\")\n",
    "double_char(\"1234!_\")"
   ]
  },
  {
   "cell_type": "markdown",
   "id": "866fbbab",
   "metadata": {},
   "source": [
    "#### Question 2 : Create a function that reverses a boolean value and returns the string 'boolean expected' if another variable type is given."
   ]
  },
  {
   "cell_type": "code",
   "execution_count": 2,
   "id": "2ad0b9d3",
   "metadata": {},
   "outputs": [
    {
     "name": "stdout",
     "output_type": "stream",
     "text": [
      " reverse (True) -> False\n",
      " reverse (False) -> True\n",
      " reverse (0) -> boolean expected\n",
      " reverse (None) -> boolean expected\n"
     ]
    }
   ],
   "source": [
    "def reverse(boolean):\n",
    "    if type(boolean)==bool:\n",
    "        print(f' reverse ({boolean}) -> {not boolean}')\n",
    "    else:\n",
    "         print(f' reverse ({boolean}) -> boolean expected')\n",
    "        \n",
    "reverse(True) \n",
    "reverse(False) \n",
    "reverse(0) \n",
    "reverse(None)"
   ]
  },
  {
   "cell_type": "markdown",
   "id": "3c17ddd1",
   "metadata": {},
   "source": [
    "#### Question 3 :Create a function that returns the thickness (in meters) of a piece of paper after folding it n number of times. The paper starts off with a thickness of 0.5mm."
   ]
  },
  {
   "cell_type": "code",
   "execution_count": 3,
   "id": "232817ea",
   "metadata": {},
   "outputs": [
    {
     "name": "stdout",
     "output_type": "stream",
     "text": [
      "num_layers (1) ->  0.001m\n",
      "num_layers (4) ->  0.008m\n",
      "num_layers (21) ->  1048.576m\n"
     ]
    }
   ],
   "source": [
    "def num_layers(num):\n",
    "    result = 0.5\n",
    "    for i in range(num):\n",
    "        result *= 2\n",
    "    print(f'num_layers ({num}) ->  {result/1000}m')\n",
    "    \n",
    "num_layers(1)\n",
    "num_layers(4)\n",
    "num_layers(21)"
   ]
  },
  {
   "cell_type": "markdown",
   "id": "62ce9637",
   "metadata": {},
   "source": [
    "#### Question 4 :Create a function that takes a single string as argument and returns an ordered list containing the indices of all capital letters in the string."
   ]
  },
  {
   "cell_type": "code",
   "execution_count": 4,
   "id": "0c0b782c",
   "metadata": {},
   "outputs": [
    {
     "name": "stdout",
     "output_type": "stream",
     "text": [
      "index_of_caps (eDaBiT)  -> [1, 3, 5]\n",
      "index_of_caps (eQuINoX)  -> [1, 3, 4, 6]\n",
      "index_of_caps (determine)  -> []\n",
      "index_of_caps (STRIKE)  -> [0, 1, 2, 3, 4, 5]\n",
      "index_of_caps (sUn)  -> [1]\n"
     ]
    }
   ],
   "source": [
    "def index_of_caps(string):\n",
    "    result=[]\n",
    "    for i in string:\n",
    "        if i.isupper()==True:\n",
    "            result.append(string.index(i))\n",
    "    print(f'index_of_caps ({string})  -> {result}')\n",
    "index_of_caps(\"eDaBiT\")\n",
    "index_of_caps(\"eQuINoX\")\n",
    "index_of_caps(\"determine\")\n",
    "index_of_caps(\"STRIKE\")\n",
    "index_of_caps(\"sUn\")"
   ]
  },
  {
   "cell_type": "markdown",
   "id": "9e0d484b",
   "metadata": {},
   "source": [
    "#### question 5: Using list comprehensions, create a function that finds all even numbers from 1 to the given number."
   ]
  },
  {
   "cell_type": "code",
   "execution_count": 5,
   "id": "31cf9030",
   "metadata": {},
   "outputs": [
    {
     "name": "stdout",
     "output_type": "stream",
     "text": [
      "find_even_nums (8) -> [2, 4, 6, 8]\n",
      "find_even_nums (4) -> [2, 4]\n",
      "find_even_nums (2) -> [2]\n"
     ]
    }
   ],
   "source": [
    "def find_even_nums(num):\n",
    "        result=[]\n",
    "        for i in range(1,num+1):\n",
    "            if i%2==0:\n",
    "                result.append(i)\n",
    "        print(f'find_even_nums ({num}) -> {result}')\n",
    "find_even_nums(8)\n",
    "find_even_nums(4)\n",
    "find_even_nums(2)"
   ]
  },
  {
   "cell_type": "code",
   "execution_count": null,
   "id": "5799923d",
   "metadata": {},
   "outputs": [],
   "source": []
  }
 ],
 "metadata": {
  "kernelspec": {
   "display_name": "Python 3 (ipykernel)",
   "language": "python",
   "name": "python3"
  },
  "language_info": {
   "codemirror_mode": {
    "name": "ipython",
    "version": 3
   },
   "file_extension": ".py",
   "mimetype": "text/x-python",
   "name": "python",
   "nbconvert_exporter": "python",
   "pygments_lexer": "ipython3",
   "version": "3.9.7"
  }
 },
 "nbformat": 4,
 "nbformat_minor": 5
}
