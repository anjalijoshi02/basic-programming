{
 "cells": [
  {
   "cell_type": "markdown",
   "id": "87e27c05",
   "metadata": {},
   "source": [
    "# Python Basic Programming Assignment-24"
   ]
  },
  {
   "cell_type": "markdown",
   "id": "2ecd9cbf",
   "metadata": {},
   "source": [
    "#### Question 1 : Create a function that takes an integer and returns a list from 1 to the given number, where:\n",
    "#### 1. If the number can be divided evenly by 4, amplify it by 10 (i.e. return 10 times the number).\n",
    "#### 2. If the number cannot be divided evenly by 4, simply return the number."
   ]
  },
  {
   "cell_type": "code",
   "execution_count": 1,
   "id": "876bcc17",
   "metadata": {},
   "outputs": [
    {
     "name": "stdout",
     "output_type": "stream",
     "text": [
      "amplify(4)->[1, 2, 3, 40]\n",
      "amplify(3)->[1, 2, 3]\n",
      "amplify(25)->[1, 2, 3, 40, 5, 6, 7, 80, 9, 10, 11, 120, 13, 14, 15, 160, 17, 18, 19, 200, 21, 22, 23, 240, 25]\n"
     ]
    }
   ],
   "source": [
    "def amplify(num):\n",
    "    l=[]\n",
    "    for i in range(1,num+1):\n",
    "        if i%4==0:\n",
    "            l.append(10*i)\n",
    "        else:\n",
    "            l.append(i)\n",
    "    print(f'amplify({num})->{l}')\n",
    "amplify(4)\n",
    "amplify(3)\n",
    "amplify(25)\n"
   ]
  },
  {
   "cell_type": "markdown",
   "id": "1f6bd8ab",
   "metadata": {},
   "source": [
    "#### Question 2 : Create a function that takes a list of numbers and return the number that's unique."
   ]
  },
  {
   "cell_type": "code",
   "execution_count": 3,
   "id": "229e800b",
   "metadata": {},
   "outputs": [
    {
     "name": "stdout",
     "output_type": "stream",
     "text": [
      "unique([3, 3, 3, 7, 3, 3])-> 7\n",
      "unique([0, 0, 0.77, 0, 0])-> 0.77\n",
      "unique([0, 1, 1, 1, 1, 1, 1, 1])-> 0\n"
     ]
    }
   ],
   "source": [
    "def unique(l):        \n",
    "    output=''\n",
    "    for i in set(l):\n",
    "        if l.count(i)==1:\n",
    "            output=i\n",
    "    print(f'unique({l})-> {output}')\n",
    "unique([3, 3, 3, 7, 3, 3])\n",
    "unique([0, 0, 0.77, 0, 0])\n",
    "unique([0, 1, 1, 1, 1, 1, 1, 1])"
   ]
  },
  {
   "cell_type": "markdown",
   "id": "c71a1940",
   "metadata": {},
   "source": [
    "#### Question 3 : Your task is to create a Circle constructor that creates a circle with a radius provided by an argument. The circles constructed must have two getters getArea() (PIr^2) and getPerimeter() (2PI*r) which give both respective areas and perimeter (circumference)."
   ]
  },
  {
   "cell_type": "code",
   "execution_count": 5,
   "id": "439afa3f",
   "metadata": {},
   "outputs": [
    {
     "name": "stdout",
     "output_type": "stream",
     "text": [
      "Radius -> 380.1327110843649\n",
      "Perimeter -> 27.897342763877365\n"
     ]
    }
   ],
   "source": [
    "import math\n",
    "\n",
    "class Circle:\n",
    "    def __init__(self, radius):\n",
    "        self.radius = radius\n",
    "    def getArea(self):\n",
    "        print(f'Radius -> {(math.pi*self.radius*self.radius)}')\n",
    "    def getPerimeter(self):\n",
    "        print(f'Perimeter -> {(2*math.pi*self.radius)}')\n",
    "circy = Circle(11)\n",
    "circy.getArea()\n",
    "\n",
    "circy = Circle(4.44)\n",
    "circy.getPerimeter()"
   ]
  },
  {
   "cell_type": "markdown",
   "id": "935f3e75",
   "metadata": {},
   "source": [
    "#### Question 4 :Create a function that takes a list of strings and return a list, sorted from shortest to longest."
   ]
  },
  {
   "cell_type": "code",
   "execution_count": 6,
   "id": "1fc7c97e",
   "metadata": {},
   "outputs": [
    {
     "name": "stdout",
     "output_type": "stream",
     "text": [
      "['Apple', 'Google', 'Microsoft']\n",
      "['Raphael', 'Leonardo', 'Donatello', 'Michelangelo']\n",
      "['Jung', 'Turing', 'Einstein']\n"
     ]
    }
   ],
   "source": [
    "def sort_by_length(l):\n",
    "    print(f'sort_by_length({l})-> {sorted(l,key=len)}')\n",
    "def sort_by_length(in_list):\n",
    "    print(sorted(in_list,key=len))\n",
    "\n",
    "sort_by_length([\"Google\", \"Apple\", \"Microsoft\"])\n",
    "sort_by_length([\"Leonardo\", \"Michelangelo\", \"Raphael\", \"Donatello\"])\n",
    "sort_by_length([\"Turing\", \"Einstein\", \"Jung\"])"
   ]
  },
  {
   "cell_type": "markdown",
   "id": "44d471e3",
   "metadata": {},
   "source": [
    "#### Question 5 : Create a function that validates whether three given integers form a Pythagorean triplet. The sum of the squares of the two smallest integers must equal the square of the largest number to be validated."
   ]
  },
  {
   "cell_type": "code",
   "execution_count": 7,
   "id": "f13a03a6",
   "metadata": {},
   "outputs": [
    {
     "name": "stdout",
     "output_type": "stream",
     "text": [
      "is_triplet(3,4,5)->True\n",
      "is_triplet(13,5,12)->True\n",
      "is_triplet(1,2,3)->False\n"
     ]
    }
   ],
   "source": [
    "import math\n",
    "def is_triplet(a,b,c):\n",
    "    l=[]\n",
    "    l.append(a)\n",
    "    l.append(b)\n",
    "    l.append(c)\n",
    "    h=max(l)\n",
    "    l.remove(h)\n",
    "    p=min(l)\n",
    "    l.remove(p)\n",
    "    base=l[0]\n",
    "    if (h*h)==(base*base)+(p*p):\n",
    "        print(f'is_triplet({a},{b},{c})->{True}')\n",
    "    else:\n",
    "        print(f'is_triplet({a},{b},{c})->{False}')\n",
    "is_triplet(3, 4, 5)\n",
    "is_triplet(13,5,12)\n",
    "is_triplet(1, 2, 3)"
   ]
  },
  {
   "cell_type": "code",
   "execution_count": null,
   "id": "7f4f03c4",
   "metadata": {},
   "outputs": [],
   "source": []
  }
 ],
 "metadata": {
  "kernelspec": {
   "display_name": "Python 3 (ipykernel)",
   "language": "python",
   "name": "python3"
  },
  "language_info": {
   "codemirror_mode": {
    "name": "ipython",
    "version": 3
   },
   "file_extension": ".py",
   "mimetype": "text/x-python",
   "name": "python",
   "nbconvert_exporter": "python",
   "pygments_lexer": "ipython3",
   "version": "3.9.7"
  }
 },
 "nbformat": 4,
 "nbformat_minor": 5
}
