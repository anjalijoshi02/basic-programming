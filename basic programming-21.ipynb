{
 "cells": [
  {
   "cell_type": "markdown",
   "id": "a8c12f46",
   "metadata": {},
   "source": [
    "# Python Basic Programming-21"
   ]
  },
  {
   "cell_type": "markdown",
   "id": "796022d9",
   "metadata": {},
   "source": [
    "#### Question 1:Write a function that takes a list and a number as arguments. Add the number to the end of the list, then remove the first element of the list. The function should then return the updated list."
   ]
  },
  {
   "cell_type": "code",
   "execution_count": 1,
   "id": "39b3c8ca",
   "metadata": {},
   "outputs": [
    {
     "name": "stdout",
     "output_type": "stream",
     "text": [
      "next_in_line ([6, 7, 8, 9, 1],1) -> [6, 7, 8, 9, 1]\n",
      "next_in_line ([6, 3, 23, 17, 10],10) -> [6, 3, 23, 17, 10]\n",
      "next_in_line ([10, 20, 42, 6],6) -> [10, 20, 42, 6]\n",
      "next_in_line ([],6)-> No list has been selected\n"
     ]
    }
   ],
   "source": [
    "def next_in_line(l,num):\n",
    "    if l==[]:\n",
    "        print(f'next_in_line ({l},{num})-> No list has been selected')\n",
    "    else:\n",
    "        \n",
    "        l.pop(0)\n",
    "        l.append(num)\n",
    "        print(f'next_in_line ({l},{num}) -> {l}')\n",
    "next_in_line([5, 6, 7, 8, 9], 1)\n",
    "next_in_line([7, 6, 3, 23, 17], 10)\n",
    "next_in_line([1, 10, 20, 42 ], 6)\n",
    "next_in_line([], 6)"
   ]
  },
  {
   "cell_type": "markdown",
   "id": "a16cd90b",
   "metadata": {},
   "source": [
    "#### Question 2 :Create the function that takes a list of dictionaries and returns the sum of people&#39;s budgets."
   ]
  },
  {
   "cell_type": "code",
   "execution_count": 2,
   "id": "ae7f5573",
   "metadata": {},
   "outputs": [
    {
     "name": "stdout",
     "output_type": "stream",
     "text": [
      "output->65700\n",
      "output->62600\n"
     ]
    }
   ],
   "source": [
    "def get_budget(dic):\n",
    "    result=0\n",
    "    for i in dic:\n",
    "        result+=i['budget']\n",
    "    print(f'output->{result}')\n",
    "get_budget([\n",
    "{ \"name\": \"John\", \"age\": 21, \"budget\": 23000 },\n",
    "{ \"name\": \"Steve\", \"age\": 32, \"budget\": 40000 },\n",
    "{ \"name\": \"Martin\", \"age\": 16, \"budget\": 2700 }\n",
    "])\n",
    "\n",
    "get_budget([\n",
    "{ \"name\": \"John\", \"age\": 21, \"budget\": 29000 },\n",
    "{ \"name\": \"Steve\", \"age\": 32, \"budget\": 32000 },\n",
    "{ \"name\": \"Martin\", \"age\": 16, \"budget\": 1600 }\n",
    "])"
   ]
  },
  {
   "cell_type": "markdown",
   "id": "01a3d8ba",
   "metadata": {},
   "source": [
    "#### Question 3 :Create a function that takes a string and returns a string with its letters in alphabetical order."
   ]
  },
  {
   "cell_type": "code",
   "execution_count": 3,
   "id": "6ca66d5a",
   "metadata": {},
   "outputs": [
    {
     "name": "stdout",
     "output_type": "stream",
     "text": [
      " alphabet_soup (hello)-> ehllo\n",
      " alphabet_soup (edabit)-> abdeit\n",
      " alphabet_soup (hacker)-> acehkr\n",
      " alphabet_soup (geek)-> eegk\n",
      " alphabet_soup (javascript)-> aacijprstv\n"
     ]
    }
   ],
   "source": [
    "def alphabet_soup(string):\n",
    "    result=''.join(sorted(string))\n",
    "    print(f' alphabet_soup ({string})-> {result}')\n",
    "    \n",
    "alphabet_soup(\"hello\")\n",
    "alphabet_soup(\"edabit\")\n",
    "alphabet_soup(\"hacker\")\n",
    "alphabet_soup(\"geek\")\n",
    "alphabet_soup(\"javascript\")"
   ]
  },
  {
   "cell_type": "markdown",
   "id": "b6bcf675",
   "metadata": {},
   "source": [
    "#### Question 4 :Create a function that accepts the principal p, the term in years t, the interest rate r, and the number of compounding periods per year n. The function returns the value at the end of term rounded to the nearest cent."
   ]
  },
  {
   "cell_type": "code",
   "execution_count": 4,
   "id": "d7749d9d",
   "metadata": {},
   "outputs": [
    {
     "name": "stdout",
     "output_type": "stream",
     "text": [
      "compound_interest (100,1,0.05,1)-> 105.00\n",
      "compound_interest (3500,15,0.1,4)-> 15399.26\n",
      "compound_interest (100000,20,0.15,365)-> 2007316.26\n"
     ]
    }
   ],
   "source": [
    "def compound_interest(principal,years,roi,cp):\n",
    "    ci = principal*(1+(roi/cp))**(cp*years)\n",
    "    print(f'compound_interest ({principal},{years},{roi},{cp})-> {ci:.2f}')\n",
    "\n",
    "compound_interest(100, 1, 0.05, 1)\n",
    "compound_interest(3500, 15, 0.1, 4)\n",
    "compound_interest(100000, 20, 0.15, 365)"
   ]
  },
  {
   "cell_type": "markdown",
   "id": "5bb32c25",
   "metadata": {},
   "source": [
    "#### Question 5 :Write a function that takes a list of elements and returns only the integers."
   ]
  },
  {
   "cell_type": "code",
   "execution_count": 5,
   "id": "70138ec0",
   "metadata": {},
   "outputs": [
    {
     "name": "stdout",
     "output_type": "stream",
     "text": [
      "return_only_integer ([9, 2, 'space', 'car', 'lion', 16])  ->  [9, 2, 16]\n",
      "return_only_integer (['hello', 81, 'basketball', 123, 'fox'])  ->  [81, 123]\n",
      "return_only_integer ([10, '121', 56, 20, 'car', 3, 'lion'])  ->  [10, 56, 20, 3]\n",
      "return_only_integer (['String', True, 3.3, 1])  ->  [1]\n"
     ]
    }
   ],
   "source": [
    "def return_only_integer(l):\n",
    "    result=[]\n",
    "    for i in l:\n",
    "        if type(i)==int:\n",
    "            result.append(i)\n",
    "    print(f'return_only_integer ({l})  ->  {result}')\n",
    "    \n",
    "return_only_integer([9, 2, \"space\", \"car\", \"lion\", 16])\n",
    "return_only_integer([\"hello\", 81, \"basketball\", 123, \"fox\"])\n",
    "return_only_integer([10, \"121\", 56, 20, \"car\", 3, \"lion\"]) \n",
    "return_only_integer([\"String\", True, 3.3, 1])"
   ]
  }
 ],
 "metadata": {
  "kernelspec": {
   "display_name": "Python 3 (ipykernel)",
   "language": "python",
   "name": "python3"
  },
  "language_info": {
   "codemirror_mode": {
    "name": "ipython",
    "version": 3
   },
   "file_extension": ".py",
   "mimetype": "text/x-python",
   "name": "python",
   "nbconvert_exporter": "python",
   "pygments_lexer": "ipython3",
   "version": "3.9.7"
  }
 },
 "nbformat": 4,
 "nbformat_minor": 5
}
