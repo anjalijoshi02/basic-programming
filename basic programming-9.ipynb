{
 "cells": [
  {
   "cell_type": "markdown",
   "id": "2fbb8705",
   "metadata": {},
   "source": [
    "# Python Basic Programming Assignment-9"
   ]
  },
  {
   "cell_type": "markdown",
   "id": "8fc2eea4",
   "metadata": {},
   "source": [
    "#### Question 1:Write a Python program to check if the given number is a Disarium Number?"
   ]
  },
  {
   "cell_type": "code",
   "execution_count": 4,
   "id": "d24cff4f",
   "metadata": {},
   "outputs": [],
   "source": [
    "def disarium():\n",
    "    n=input(\"enter number:\")\n",
    "    order =len(n)\n",
    "    num=int(n)\n",
    "    a=num\n",
    "    sum=0\n",
    "    while (num>0):\n",
    "        digit=num%10\n",
    "        sum=sum+((digit)**order)\n",
    "        order = order-1\n",
    "        num=num//10\n",
    "    if sum==a:\n",
    "        print(\"disarium\")\n",
    "    else:\n",
    "        print(\"not disarium\")"
   ]
  },
  {
   "cell_type": "code",
   "execution_count": 6,
   "id": "0364f51c",
   "metadata": {},
   "outputs": [
    {
     "name": "stdout",
     "output_type": "stream",
     "text": [
      "enter number:135\n",
      "disarium\n"
     ]
    }
   ],
   "source": [
    "disarium()"
   ]
  },
  {
   "cell_type": "code",
   "execution_count": 7,
   "id": "00685fc6",
   "metadata": {},
   "outputs": [
    {
     "name": "stdout",
     "output_type": "stream",
     "text": [
      "enter number:153\n",
      "not disarium\n"
     ]
    }
   ],
   "source": [
    "disarium()"
   ]
  },
  {
   "cell_type": "markdown",
   "id": "ea437b47",
   "metadata": {},
   "source": [
    "#### Question 2 Write a Python program to print all disarium numbers between 1 to 100?"
   ]
  },
  {
   "cell_type": "code",
   "execution_count": 9,
   "id": "cd15e1a3",
   "metadata": {},
   "outputs": [],
   "source": [
    "def gen_disarium(start=1,end=100):\n",
    "    l=[]\n",
    "    for n in range(start,end+1):\n",
    "        order =len(str(n))\n",
    "        num=int(n)\n",
    "        a=num\n",
    "        sum=0\n",
    "        while (num>0):\n",
    "            digit=num%10\n",
    "            sum=sum+((digit)**order)\n",
    "            order = order-1\n",
    "            num=num//10\n",
    "        if sum==a:\n",
    "            l.append(a)\n",
    "    print(\"disarium number in the interval ({},{}) are {}\".format(start,end,l))\n"
   ]
  },
  {
   "cell_type": "code",
   "execution_count": 10,
   "id": "cb6cee07",
   "metadata": {},
   "outputs": [
    {
     "name": "stdout",
     "output_type": "stream",
     "text": [
      "disarium number in the interval (1,100) are [1, 2, 3, 4, 5, 6, 7, 8, 9, 89]\n"
     ]
    }
   ],
   "source": [
    "gen_disarium()"
   ]
  },
  {
   "cell_type": "markdown",
   "id": "1eed23a5",
   "metadata": {},
   "source": [
    "#### Question 3 : Write a Python program to check if the given number is Happy Number?"
   ]
  },
  {
   "cell_type": "code",
   "execution_count": 20,
   "id": "65ece849",
   "metadata": {},
   "outputs": [],
   "source": [
    "def isHappy():\n",
    "    num = input('Enter a Number: ')\n",
    "    num_duplicate = num\n",
    "    seen = set()   \n",
    "    while True:\n",
    "        if num != '1' and str(num) not in seen:\n",
    "            seen.add(num)\n",
    "            sum = 0\n",
    "            for e in range(len((num))):\n",
    "                sum = sum + int(num[e])**2\n",
    "            num = str(sum)\n",
    "        elif str(num) in seen:\n",
    "            print(f'{num_duplicate} is not a Happy Number')\n",
    "            break\n",
    "        else:\n",
    "            print(f'{num_duplicate} is a Happy Number')\n",
    "            break"
   ]
  },
  {
   "cell_type": "code",
   "execution_count": 22,
   "id": "a3fb701e",
   "metadata": {},
   "outputs": [
    {
     "name": "stdout",
     "output_type": "stream",
     "text": [
      "Enter a Number: 18\n",
      "18 is not a Happy Number\n",
      "Enter a Number: 19\n",
      "19 is a Happy Number\n"
     ]
    }
   ],
   "source": [
    "isHappy()\n",
    "isHappy()"
   ]
  },
  {
   "cell_type": "markdown",
   "id": "3839ab23",
   "metadata": {},
   "source": [
    "#### Question 4 : Write a Python program to print all happy numbers between 1 and 100?"
   ]
  },
  {
   "cell_type": "code",
   "execution_count": 24,
   "id": "0dd8044a",
   "metadata": {},
   "outputs": [],
   "source": [
    "def printHappy(start=0,end=100):\n",
    "    happyNumbersList = []\n",
    "    for num in range(start,end+1):\n",
    "        num = str(num)\n",
    "        holder = num\n",
    "        seen = set()   \n",
    "        while True:\n",
    "            if num != '1' and str(num) not in seen:\n",
    "                seen.add(num)\n",
    "                sum = 0\n",
    "                for e in range(len((num))):\n",
    "                    sum = sum + int(num[e])**2\n",
    "                num = str(sum)\n",
    "            elif str(num) in seen:\n",
    "                break\n",
    "            else:\n",
    "                happyNumbersList.append(int(holder))\n",
    "                break\n",
    "    print(f'The Happy Numbers between {start} and {end} are {happyNumbersList}')"
   ]
  },
  {
   "cell_type": "code",
   "execution_count": 25,
   "id": "532fbfd7",
   "metadata": {},
   "outputs": [
    {
     "name": "stdout",
     "output_type": "stream",
     "text": [
      "The Happy Numbers between 1 and 100 are [1, 7, 10, 13, 19, 23, 28, 31, 32, 44, 49, 68, 70, 79, 82, 86, 91, 94, 97, 100]\n"
     ]
    }
   ],
   "source": [
    "printHappy(1,100)"
   ]
  },
  {
   "cell_type": "markdown",
   "id": "14925af4",
   "metadata": {},
   "source": [
    "#### Question 5: Write a Python program to determine whether the given number is a Harshad Number?"
   ]
  },
  {
   "cell_type": "code",
   "execution_count": 13,
   "id": "6f493c95",
   "metadata": {},
   "outputs": [],
   "source": [
    "def isHarshad(num):\n",
    "    a=sum_of_digits(num)\n",
    "    if num%a==0:\n",
    "        print(\"{} is a harshad number \".format(num))\n",
    "    else:\n",
    "        print(\"{} is not a harshad number\".format(num))\n",
    "def sum_of_digits(num):\n",
    "    a=str(num)\n",
    "    sum=0\n",
    "    for i in a:\n",
    "        sum=sum+int(i)\n",
    "    return sum"
   ]
  },
  {
   "cell_type": "code",
   "execution_count": 16,
   "id": "d5672799",
   "metadata": {},
   "outputs": [
    {
     "name": "stdout",
     "output_type": "stream",
     "text": [
      "21 is a harshad number \n",
      "153 is a harshad number \n",
      "98 is not a harshad number\n"
     ]
    }
   ],
   "source": [
    "isHarshad(21)\n",
    "isHarshad(153)\n",
    "isHarshad(98)"
   ]
  },
  {
   "cell_type": "markdown",
   "id": "e23236f4",
   "metadata": {},
   "source": [
    "#### Question 6: Write a Python program to print all pronic numbers between 1 and 100?"
   ]
  },
  {
   "cell_type": "code",
   "execution_count": 17,
   "id": "26514559",
   "metadata": {},
   "outputs": [],
   "source": [
    "def isPronic(num):\n",
    "    a=0\n",
    "    for i in range(num):\n",
    "        if num==i*(i+1):\n",
    "            a=1\n",
    "    if a==1:\n",
    "        print(\"{} is a pronic number \".format(num))\n",
    "    else:\n",
    "        print(\"{} is not a pronic number \".format(num))"
   ]
  },
  {
   "cell_type": "code",
   "execution_count": 18,
   "id": "aceb9fc2",
   "metadata": {},
   "outputs": [
    {
     "name": "stdout",
     "output_type": "stream",
     "text": [
      "12 is a pronic number \n",
      "8 is not a pronic number \n",
      "132 is a pronic number \n",
      "16 is not a pronic number \n"
     ]
    }
   ],
   "source": [
    "isPronic(12)\n",
    "isPronic(8)\n",
    "isPronic(132)\n",
    "isPronic(16)"
   ]
  },
  {
   "cell_type": "code",
   "execution_count": null,
   "id": "0d99ceb3",
   "metadata": {},
   "outputs": [],
   "source": []
  }
 ],
 "metadata": {
  "kernelspec": {
   "display_name": "Python 3 (ipykernel)",
   "language": "python",
   "name": "python3"
  },
  "language_info": {
   "codemirror_mode": {
    "name": "ipython",
    "version": 3
   },
   "file_extension": ".py",
   "mimetype": "text/x-python",
   "name": "python",
   "nbconvert_exporter": "python",
   "pygments_lexer": "ipython3",
   "version": "3.9.7"
  }
 },
 "nbformat": 4,
 "nbformat_minor": 5
}
