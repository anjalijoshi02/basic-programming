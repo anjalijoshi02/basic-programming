{
 "cells": [
  {
   "cell_type": "markdown",
   "id": "f69750cd",
   "metadata": {},
   "source": [
    "# Basic Progrsmming Assignment-10"
   ]
  },
  {
   "cell_type": "markdown",
   "id": "73505be5",
   "metadata": {},
   "source": [
    "#### Question 10: Write a Python program to find sum of elements in list?"
   ]
  },
  {
   "cell_type": "code",
   "execution_count": 15,
   "id": "6053e502",
   "metadata": {},
   "outputs": [
    {
     "data": {
      "text/plain": [
       "706"
      ]
     },
     "execution_count": 15,
     "metadata": {},
     "output_type": "execute_result"
    }
   ],
   "source": [
    "def add(l):\n",
    "    \"\"\"returns the sum of values of the list\"\"\"\n",
    "    count=0\n",
    "    for i in l:\n",
    "        count=count+i\n",
    "    return (count)\n",
    "\n",
    "add([23,4,5,564,6,57,47])"
   ]
  },
  {
   "cell_type": "markdown",
   "id": "53f1f3c8",
   "metadata": {},
   "source": [
    "#### Question 2: Write a Python program to Multiply all numbers in the list?"
   ]
  },
  {
   "cell_type": "code",
   "execution_count": 17,
   "id": "9ccb1dff",
   "metadata": {},
   "outputs": [
    {
     "data": {
      "text/plain": [
       "720"
      ]
     },
     "execution_count": 17,
     "metadata": {},
     "output_type": "execute_result"
    }
   ],
   "source": [
    "def multiply(l):\n",
    "    \"\"\"multiplies all the elements of the list\"\"\"\n",
    "    temp=1\n",
    "    for i in l:\n",
    "        temp=temp*i\n",
    "    return temp\n",
    "\n",
    "multiply([2,3,4,5,6])\n",
    "    "
   ]
  },
  {
   "cell_type": "markdown",
   "id": "6f96d033",
   "metadata": {},
   "source": [
    "#### Question 3 :Write a Python program to find smallest number in a list?"
   ]
  },
  {
   "cell_type": "code",
   "execution_count": 27,
   "id": "bb147586",
   "metadata": {},
   "outputs": [
    {
     "data": {
      "text/plain": [
       "34"
      ]
     },
     "execution_count": 27,
     "metadata": {},
     "output_type": "execute_result"
    }
   ],
   "source": [
    "def smallest(l):\n",
    "    \"\"\"finds the smallest element of the list\"\"\"\n",
    "    minimum=l[0]\n",
    "    for i in l:\n",
    "        if i<minimum:\n",
    "            minimum=i\n",
    "    return minimum\n",
    "\n",
    "smallest([268,34,54,67,98])"
   ]
  },
  {
   "cell_type": "markdown",
   "id": "21ce6c43",
   "metadata": {},
   "source": [
    "#### Question 4 : Write a Python program to find largest number in a list?"
   ]
  },
  {
   "cell_type": "code",
   "execution_count": 35,
   "id": "a155f2ae",
   "metadata": {},
   "outputs": [
    {
     "data": {
      "text/plain": [
       "87"
      ]
     },
     "execution_count": 35,
     "metadata": {},
     "output_type": "execute_result"
    }
   ],
   "source": [
    "def largest(l):\n",
    "    \"\"\"finds the largest element in the list\"\"\"\n",
    "    if type(l)!=list:\n",
    "        print(\"enter a list\")\n",
    "    else:\n",
    "        maximum=l[0]\n",
    "        for i in l:\n",
    "            if i>maximum:\n",
    "                maximum=i\n",
    "    return maximum\n",
    "\n",
    "largest([2,45,2,3,45,78,87,67])"
   ]
  },
  {
   "cell_type": "markdown",
   "id": "0c5c88e7",
   "metadata": {},
   "source": [
    "#### Question 5 : Write a Python program to find second largest number in a list?"
   ]
  },
  {
   "cell_type": "code",
   "execution_count": 34,
   "id": "e9992e39",
   "metadata": {},
   "outputs": [
    {
     "data": {
      "text/plain": [
       "56"
      ]
     },
     "execution_count": 34,
     "metadata": {},
     "output_type": "execute_result"
    }
   ],
   "source": [
    "def second_largest(l):\n",
    "    \"\"\"finds second largest element of the list\"\"\"\n",
    "    if type(l)!=list:\n",
    "        print(\"Enter a list\")\n",
    "    else:\n",
    "        l.remove(max(l))\n",
    "        maximum=l[0]\n",
    "        for i in l:\n",
    "            if i>maximum:\n",
    "                maximum=i\n",
    "    return maximum\n",
    "\n",
    "second_largest([23,34,4,5,66,56])"
   ]
  },
  {
   "cell_type": "markdown",
   "id": "6fc858c6",
   "metadata": {},
   "source": [
    "#### question 6 : Write a Python program to find N largest elements from a list?"
   ]
  },
  {
   "cell_type": "code",
   "execution_count": 3,
   "id": "e77d2181",
   "metadata": {},
   "outputs": [
    {
     "data": {
      "text/plain": [
       "[90, 89, 87]"
      ]
     },
     "execution_count": 3,
     "metadata": {},
     "output_type": "execute_result"
    }
   ],
   "source": [
    "def N_largest(l,num):\n",
    "    \"\"\"finds the n largest elements of the list\n",
    "        expected arguments\n",
    "        first argument : list\n",
    "        and second argument : number of elements \"\"\"\n",
    "    return sorted(l,reverse=True)[0:num]\n",
    "\n",
    "N_largest([23,34,54,6,78,87,9,90,87,89],3)\n",
    "    \n",
    "        \n",
    "        \n",
    "    "
   ]
  },
  {
   "cell_type": "markdown",
   "id": "2f459400",
   "metadata": {},
   "source": [
    "#### Question 7 : Write a Python program to print even numbers in a list?"
   ]
  },
  {
   "cell_type": "code",
   "execution_count": 4,
   "id": "f69f6747",
   "metadata": {},
   "outputs": [
    {
     "data": {
      "text/plain": [
       "[34, 54, 6, 78, 90, 0, 76, 68]"
      ]
     },
     "execution_count": 4,
     "metadata": {},
     "output_type": "execute_result"
    }
   ],
   "source": [
    "def even_list(l):\n",
    "    \"\"\"prints list of even numbers\"\"\"\n",
    "    init_list=[]\n",
    "    if type(l)!=list:\n",
    "        print(\"Enter a list\")\n",
    "    else:\n",
    "        for i in l:\n",
    "            if i%2==0:\n",
    "                init_list.append(i)\n",
    "    return init_list\n",
    "\n",
    "even_list([23,34,54,6,65,78,90,0,87,76,68])\n",
    "        "
   ]
  },
  {
   "cell_type": "markdown",
   "id": "356d46d4",
   "metadata": {},
   "source": [
    "#### Question 8 : Write a Python program to print odd numbers in a List?"
   ]
  },
  {
   "cell_type": "code",
   "execution_count": 6,
   "id": "b488257a",
   "metadata": {},
   "outputs": [
    {
     "data": {
      "text/plain": [
       "[23, 35, 59, 65, 9, 87]"
      ]
     },
     "execution_count": 6,
     "metadata": {},
     "output_type": "execute_result"
    }
   ],
   "source": [
    "def odd_list(l):\n",
    "    \"\"\"prints list of even numbers\"\"\"\n",
    "    init_list=[]\n",
    "    if type(l)!=list:\n",
    "        print(\"Enter a list\")\n",
    "    else:\n",
    "        for i in l:\n",
    "            if i%2!=0:\n",
    "                init_list.append(i)\n",
    "    return init_list\n",
    "\n",
    "odd_list([23,35,59,6,65,78,90,9,87,76,68])"
   ]
  },
  {
   "cell_type": "markdown",
   "id": "f2c5b311",
   "metadata": {},
   "source": [
    "#### Question 9 : Write a Python program to Remove empty List from List?"
   ]
  },
  {
   "cell_type": "code",
   "execution_count": 12,
   "id": "251c63bb",
   "metadata": {},
   "outputs": [
    {
     "data": {
      "text/plain": [
       "[2, 34, 5, 87, 6, 77, 8, 8]"
      ]
     },
     "execution_count": 12,
     "metadata": {},
     "output_type": "execute_result"
    }
   ],
   "source": [
    "def remove_empty_list(l):\n",
    "    \"\"\"removes empty lists from a list\"\"\"\n",
    "    if type(l)!=list:\n",
    "        print(\"Enter a list\")\n",
    "    else:\n",
    "        for i in l: \n",
    "            if i==[]:\n",
    "                l.remove(i)\n",
    "        return l\n",
    "    \n",
    "remove_empty_list([2,34,5,[],87,[],6,77,[],8,8])"
   ]
  },
  {
   "cell_type": "markdown",
   "id": "4eb1f9b2",
   "metadata": {},
   "source": [
    "#### Question 10 : Write a Python program to Cloning or Copying a list?"
   ]
  },
  {
   "cell_type": "code",
   "execution_count": 15,
   "id": "54cf40ef",
   "metadata": {},
   "outputs": [
    {
     "name": "stdout",
     "output_type": "stream",
     "text": [
      "orignal list is [23, 45, 5, 4] and its address is 2631117932928\n",
      "cloned list is [23, 45, 5, 4] and its address is 2631117836928\n"
     ]
    }
   ],
   "source": [
    "import copy\n",
    "def clone_list(l):\n",
    "    \"\"\"clones or copies a list into another list\"\"\"\n",
    "    if type(l)!=list:\n",
    "        print(\"Enter a list\")\n",
    "    else:\n",
    "        new_list=l.copy()\n",
    "        print(\"orignal list is {} and its address is {}\".format(l,id(l)))\n",
    "        print(\"cloned list is {} and its address is {}\".format(new_list,id(new_list)))\n",
    "\n",
    "\n",
    "clone_list([23,45,5,4])\n",
    "\n",
    "        \n",
    "    "
   ]
  },
  {
   "cell_type": "markdown",
   "id": "fc678b11",
   "metadata": {},
   "source": [
    "#### question 11 : Write a Python program to Count occurrences of an element in a list?"
   ]
  },
  {
   "cell_type": "code",
   "execution_count": 21,
   "id": "994f1606",
   "metadata": {},
   "outputs": [
    {
     "data": {
      "text/plain": [
       "6"
      ]
     },
     "execution_count": 21,
     "metadata": {},
     "output_type": "execute_result"
    }
   ],
   "source": [
    "def count(l,element):\n",
    "    \"\"\"counts number of occurences of an element in a list\"\"\"\n",
    "    temp=0\n",
    "    if type(l)!=list:\n",
    "        print(\"Enter a list\")\n",
    "    else:\n",
    "        for i in l:\n",
    "            if i==element:\n",
    "                temp+=1\n",
    "        return temp\n",
    "    \n",
    "a=[23,4,4,55,6,4,4,5,6,5,4,3,4,5,6]\n",
    "count(a,4)    \n",
    "\n",
    "        "
   ]
  },
  {
   "cell_type": "code",
   "execution_count": null,
   "id": "29b9723e",
   "metadata": {},
   "outputs": [],
   "source": []
  }
 ],
 "metadata": {
  "kernelspec": {
   "display_name": "Python 3 (ipykernel)",
   "language": "python",
   "name": "python3"
  },
  "language_info": {
   "codemirror_mode": {
    "name": "ipython",
    "version": 3
   },
   "file_extension": ".py",
   "mimetype": "text/x-python",
   "name": "python",
   "nbconvert_exporter": "python",
   "pygments_lexer": "ipython3",
   "version": "3.9.7"
  }
 },
 "nbformat": 4,
 "nbformat_minor": 5
}
