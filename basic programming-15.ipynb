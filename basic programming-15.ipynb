{
 "cells": [
  {
   "cell_type": "markdown",
   "id": "e5e2dc90",
   "metadata": {},
   "source": [
    "# Python Basic Programming-15"
   ]
  },
  {
   "cell_type": "markdown",
   "id": "55e2b311",
   "metadata": {},
   "source": [
    "#### Question 1:Please write a program using generator to print the numbers which can be divisible by 5 and 7 between 0 and n in comma separated form while n is input by console."
   ]
  },
  {
   "cell_type": "code",
   "execution_count": 8,
   "id": "0be9342d",
   "metadata": {},
   "outputs": [
    {
     "name": "stdout",
     "output_type": "stream",
     "text": [
      "0, 35, 70, 105, 140, 175, 210, 245, 280, 315, 350, 385, 420, 455, 490, 525, 560, 595, 630, 665, 700, "
     ]
    }
   ],
   "source": [
    "def divisible(num):\n",
    "    for i in range(0,num+1):\n",
    "        if i%5==0 and i%7==0:\n",
    "            yield i\n",
    "for i in divisible(700):\n",
    "    print(i ,end=', ')"
   ]
  },
  {
   "cell_type": "markdown",
   "id": "1a7e71c4",
   "metadata": {},
   "source": [
    "#### Question 2 : Please write a program using generator to print the even numbers between 0 and n in comma separated form while n is input by console."
   ]
  },
  {
   "cell_type": "code",
   "execution_count": 3,
   "id": "f5778a16",
   "metadata": {},
   "outputs": [
    {
     "data": {
      "text/plain": [
       "<generator object print_even at 0x000001FCF52C2B30>"
      ]
     },
     "execution_count": 3,
     "metadata": {},
     "output_type": "execute_result"
    }
   ],
   "source": [
    "def print_even(num):\n",
    "    for i in range(num+1):\n",
    "        if i%2==0:\n",
    "            yield i\n",
    "print_even(20)"
   ]
  },
  {
   "cell_type": "code",
   "execution_count": 4,
   "id": "21da459b",
   "metadata": {},
   "outputs": [
    {
     "name": "stdout",
     "output_type": "stream",
     "text": [
      "0, 2, 4, 6, 8, 10, 12, 14, 16, 18, 20, "
     ]
    }
   ],
   "source": [
    "for i in print_even(20):\n",
    "    print(i,end=', ')\n",
    "    "
   ]
  },
  {
   "cell_type": "markdown",
   "id": "e115c389",
   "metadata": {},
   "source": [
    "#### Question 3 : The Fibonacci Sequence is computed based on the following formula below, Please write a program using list comprehension to print the Fibonacci Sequence in comma separated form with a given n input by console ?"
   ]
  },
  {
   "cell_type": "code",
   "execution_count": 15,
   "id": "d38550a2",
   "metadata": {},
   "outputs": [
    {
     "name": "stdout",
     "output_type": "stream",
     "text": [
      "0 1 1 2 3 5 8 13 21 34 55 89 144 233 377 610 987 1597 "
     ]
    }
   ],
   "source": [
    "def fibonacci(num):\n",
    "    if num==0:\n",
    "        return 0\n",
    "    elif num==1:\n",
    "        return 1\n",
    "    else:\n",
    "        return fibonacci(num-1)+fibonacci(num-2)\n",
    "for i in range(18):\n",
    "    print(fibonacci(i),end=\" \")\n",
    "        \n",
    "        "
   ]
  },
  {
   "cell_type": "markdown",
   "id": "d24512d6",
   "metadata": {},
   "source": [
    "#### Question  4: Assuming that we have some email addresses in the &quot;username@companyname.com&quot; format, please write program to print the user name of a given email address. Both user names and company names are composed of letters only."
   ]
  },
  {
   "cell_type": "code",
   "execution_count": 25,
   "id": "656dce7f",
   "metadata": {},
   "outputs": [
    {
     "name": "stdout",
     "output_type": "stream",
     "text": [
      "user name : john\n"
     ]
    }
   ],
   "source": [
    "def username(email_id):\n",
    "    e=email_id.split(\"@\")\n",
    "    print ('user name :' ,e[0])\n",
    "username('john@google.com')"
   ]
  },
  {
   "cell_type": "markdown",
   "id": "aa923a44",
   "metadata": {},
   "source": [
    "#### Define a class named Shape and its subclass Square. The Square class has an init function which takes a length as argument. Both classes have a area function which can print the area of the shape where Shape&#39;s area is 0 by default."
   ]
  },
  {
   "cell_type": "code",
   "execution_count": 29,
   "id": "a511ee38",
   "metadata": {},
   "outputs": [
    {
     "data": {
      "text/plain": [
       "225"
      ]
     },
     "execution_count": 29,
     "metadata": {},
     "output_type": "execute_result"
    }
   ],
   "source": [
    "class shape:\n",
    "    def area(self):\n",
    "        return0\n",
    "class square(shape):\n",
    "    def __init__(self,side):\n",
    "        self.side=side\n",
    "    def area(self):\n",
    "        return self.side*self.side\n",
    "s=square(15)\n",
    "s.area()"
   ]
  },
  {
   "cell_type": "markdown",
   "id": "b6e91805",
   "metadata": {},
   "source": []
  },
  {
   "cell_type": "code",
   "execution_count": null,
   "id": "75246594",
   "metadata": {},
   "outputs": [],
   "source": []
  },
  {
   "cell_type": "markdown",
   "id": "44b9c945",
   "metadata": {},
   "source": []
  }
 ],
 "metadata": {
  "kernelspec": {
   "display_name": "Python 3 (ipykernel)",
   "language": "python",
   "name": "python3"
  },
  "language_info": {
   "codemirror_mode": {
    "name": "ipython",
    "version": 3
   },
   "file_extension": ".py",
   "mimetype": "text/x-python",
   "name": "python",
   "nbconvert_exporter": "python",
   "pygments_lexer": "ipython3",
   "version": "3.9.7"
  }
 },
 "nbformat": 4,
 "nbformat_minor": 5
}
