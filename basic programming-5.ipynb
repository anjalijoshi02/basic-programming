{
 "cells": [
  {
   "cell_type": "markdown",
   "id": "1023730b",
   "metadata": {},
   "source": [
    "# Basic programming- 5"
   ]
  },
  {
   "cell_type": "markdown",
   "id": "16b5a366",
   "metadata": {},
   "source": [
    "#### Question 1: Write a Python Program to Find LCM?"
   ]
  },
  {
   "cell_type": "code",
   "execution_count": 3,
   "id": "dbe6b2a2",
   "metadata": {},
   "outputs": [
    {
     "name": "stdout",
     "output_type": "stream",
     "text": [
      "Enter first number :4\n",
      "Enter second number :6\n",
      "lcm of 4 and 6 is 12\n"
     ]
    }
   ],
   "source": [
    "def lcm(a,b):\n",
    "    \"\"\"retruns the lcm of two numbers\"\"\"\n",
    "    maximum=max(a,b)\n",
    "    while (True):\n",
    "        if (maximum%a==0 and maximum%b==0):\n",
    "            break\n",
    "        maximum=maximum+1\n",
    "    return maximum\n",
    "n=int(input(\"Enter first number :\"))\n",
    "n2=int(input(\"Enter second number :\"))\n",
    "print(\"lcm of {} and {} is {}\".format(n,n2,lcm(n,n2)))\n",
    "    "
   ]
  },
  {
   "cell_type": "markdown",
   "id": "9fba00cb",
   "metadata": {},
   "source": [
    "#### Question 2: Write a Python Program to Find HCF?"
   ]
  },
  {
   "cell_type": "code",
   "execution_count": 7,
   "id": "ee3e572b",
   "metadata": {},
   "outputs": [
    {
     "name": "stdout",
     "output_type": "stream",
     "text": [
      "Enter first number :9\n",
      "Enter second numbe :6\n",
      "hcf of 9 and 6 is 3\n"
     ]
    }
   ],
   "source": [
    "def hcf(a,b):\n",
    "    if a<b:\n",
    "        minimum=a\n",
    "    else:\n",
    "        minimum=b\n",
    "    for i in range(1,minimum+1):\n",
    "        if a%i==0 and b%i==0:\n",
    "            value=i\n",
    "    return value\n",
    "n1=int(input(\"Enter first number :\"))\n",
    "n2=int(input(\"Enter second numbe :\"))\n",
    "print(\"hcf of {} and {} is {}\".format(n1,n2,hcf(n1,n2)))"
   ]
  },
  {
   "cell_type": "markdown",
   "id": "435496b8",
   "metadata": {},
   "source": [
    "#### Question 3:Write a Python Program to Convert Decimal to Binary, Octal and Hexadecimal?"
   ]
  },
  {
   "cell_type": "code",
   "execution_count": 9,
   "id": "e2dbf0b5",
   "metadata": {},
   "outputs": [
    {
     "name": "stdout",
     "output_type": "stream",
     "text": [
      "Enter the number :56776\n",
      "56776 to binary is 0b1101110111001000\n",
      "56776 to octal is 0o156710\n",
      "56776 to hexadecimal is 0xddc8\n"
     ]
    }
   ],
   "source": [
    "def convert():\n",
    "    num=int(input(\"Enter the number :\"))\n",
    "    print(\"{} to binary is {}\".format(num,bin(num)))\n",
    "    print(\"{} to octal is {}\".format(num,oct(num)))\n",
    "    print(\"{} to hexadecimal is {}\".format(num,hex(num)))\n",
    "convert()\n",
    "    \n",
    "    "
   ]
  },
  {
   "cell_type": "markdown",
   "id": "f56577ff",
   "metadata": {},
   "source": [
    "#### Question 4:Write a Python Program To Find ASCII value of a character?"
   ]
  },
  {
   "cell_type": "code",
   "execution_count": 12,
   "id": "3a18b46a",
   "metadata": {},
   "outputs": [
    {
     "name": "stdout",
     "output_type": "stream",
     "text": [
      "Enter a character :A\n",
      "ASCII value of A is 65\n"
     ]
    }
   ],
   "source": [
    "def find_ascii(num):\n",
    "    return ord(num)\n",
    "a=input(\"Enter a character :\")\n",
    "print(\"ASCII value of {} is {}\".format(a,find_ascii(a)))"
   ]
  },
  {
   "cell_type": "markdown",
   "id": "c6a4309f",
   "metadata": {},
   "source": [
    "#### Question 5: Write a Python Program to Make a Simple Calculator with 4 basic mathematical operations?"
   ]
  },
  {
   "cell_type": "code",
   "execution_count": 1,
   "id": "d13464a1",
   "metadata": {},
   "outputs": [
    {
     "name": "stdout",
     "output_type": "stream",
     "text": [
      "Select a Arithmetic Operation:         \n",
      "1.Addition(+)        \n",
      "2.Division(-)        \n",
      "2.Multiplication(*)        \n",
      "4.Division(/)        \n",
      "3.Stop(0)\n",
      "\n",
      "Enter an arithmetic operation *\n",
      "\n",
      "Enter 1st Number: 4\n",
      "Enter 2nd Number: 6\n",
      "4*6=24\n",
      "\n",
      "Enter an arithmetic operation +\n",
      "\n",
      "Enter 1st Number: 5\n",
      "Enter 2nd Number: 9\n",
      "5+9=14\n",
      "\n",
      "Enter an arithmetic operation /\n",
      "\n",
      "Enter 1st Number: 9\n",
      "Enter 2nd Number: 3\n",
      "9/3=3.0\n",
      "\n",
      "Enter an arithmetic operation 0\n",
      "Program Stopped successfully\n"
     ]
    }
   ],
   "source": [
    "import operator\n",
    "\n",
    "ops = { \"+\": operator.add, \"-\": operator.sub, \"*\":operator.mul, \"/\":operator.truediv } \n",
    "\n",
    "print('Select a Arithmetic Operation: \\\n",
    "        \\n1.Addition(+)\\\n",
    "        \\n2.Division(-)\\\n",
    "        \\n2.Multiplication(*)\\\n",
    "        \\n4.Division(/)\\\n",
    "        \\n3.Stop(0)\\n')\n",
    "   \n",
    "\n",
    "while True:\n",
    "    operator = input('Enter an arithmetic operation ')\n",
    "    if operator == '0':\n",
    "        print(\"Program Stopped successfully\")\n",
    "        break\n",
    "    elif operator not in ['+','-','*','/']:\n",
    "        print(\"Please enter a valid operator\")\n",
    "    else:\n",
    "        num_1 = int(input('\\nEnter 1st Number: '))\n",
    "        num_2 = int(input('Enter 2nd Number: '))\n",
    "        print(f'{num_1}{operator}{num_2}={ops[operator](num_1,num_2)}\\n')"
   ]
  },
  {
   "cell_type": "code",
   "execution_count": null,
   "id": "6e21d029",
   "metadata": {},
   "outputs": [],
   "source": []
  }
 ],
 "metadata": {
  "kernelspec": {
   "display_name": "Python 3 (ipykernel)",
   "language": "python",
   "name": "python3"
  },
  "language_info": {
   "codemirror_mode": {
    "name": "ipython",
    "version": 3
   },
   "file_extension": ".py",
   "mimetype": "text/x-python",
   "name": "python",
   "nbconvert_exporter": "python",
   "pygments_lexer": "ipython3",
   "version": "3.9.7"
  }
 },
 "nbformat": 4,
 "nbformat_minor": 5
}
