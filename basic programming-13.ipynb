{
 "cells": [
  {
   "cell_type": "markdown",
   "id": "27ce5b86",
   "metadata": {},
   "source": [
    "# Python Basic Programming Assignment-13"
   ]
  },
  {
   "cell_type": "markdown",
   "id": "06258a11",
   "metadata": {},
   "source": [
    "#### Question 1: Write a program that calculates and prints the value according to the given formula: Q = Square root of [(2 * C * D)/H]"
   ]
  },
  {
   "cell_type": "code",
   "execution_count": 1,
   "id": "e826a5a8",
   "metadata": {},
   "outputs": [
    {
     "name": "stdout",
     "output_type": "stream",
     "text": [
      "output -> 18,22,24\n"
     ]
    }
   ],
   "source": [
    "import math\n",
    "def calculate(num):\n",
    "    num = eval(num)\n",
    "    result = []\n",
    "    C = 50 #given\n",
    "    H = 30 # given\n",
    "    for i in num:\n",
    "        Q = str(int(math.sqrt((2*C*i)/H)))\n",
    "        result.append(Q)\n",
    "        result1=','.join(result)\n",
    "    print(f'output -> {result1}')\n",
    "calculate('100,150,180')"
   ]
  },
  {
   "cell_type": "markdown",
   "id": "8922fcd8",
   "metadata": {},
   "source": [
    "#### Question 2 :Write a program which takes 2 digits, X,Y as input and generates a 2-dimensional array. The element value in the i-th row and j-th column of the array should be i*j."
   ]
  },
  {
   "cell_type": "code",
   "execution_count": 2,
   "id": "ae327491",
   "metadata": {},
   "outputs": [
    {
     "name": "stdout",
     "output_type": "stream",
     "text": [
      "[[0, 0, 0, 0, 0], [0, 1, 2, 3, 4], [0, 2, 4, 6, 8]]\n"
     ]
    }
   ],
   "source": [
    "import array as arr\n",
    "def gen_Array(x,y): \n",
    "    result = []\n",
    "    for i in range(x):\n",
    "        result.insert(x,[])\n",
    "        for j in range(y):\n",
    "            result[i].append(i*j)\n",
    "    print(result)\n",
    "gen_Array(3,5)"
   ]
  },
  {
   "cell_type": "markdown",
   "id": "0777e251",
   "metadata": {},
   "source": [
    "#### Question 3: Write a program that accepts a comma separated sequence of words as input and prints the words in a comma-separated sequence after sorting them alphabetically."
   ]
  },
  {
   "cell_type": "code",
   "execution_count": 3,
   "id": "49a9edf3",
   "metadata": {},
   "outputs": [
    {
     "data": {
      "text/plain": [
       "'bag,hello,without,world'"
      ]
     },
     "execution_count": 3,
     "metadata": {},
     "output_type": "execute_result"
    }
   ],
   "source": [
    "def sort_alphabetically(string):\n",
    "    l=[]\n",
    "    l1=string.split(',')\n",
    "    l=sorted(l1)\n",
    "    l=','.join(l)\n",
    "    return l\n",
    "sort_alphabetically('without,hello,bag,world')"
   ]
  },
  {
   "cell_type": "markdown",
   "id": "45425b3c",
   "metadata": {},
   "source": [
    "#### Question 4 :Write a program that accepts a sequence of whitespace separated words as input and prints the words after removing all duplicate words and sorting them alphanumerically."
   ]
  },
  {
   "cell_type": "code",
   "execution_count": 4,
   "id": "aea98d82",
   "metadata": {},
   "outputs": [
    {
     "name": "stdout",
     "output_type": "stream",
     "text": [
      "hello practice perfect world again makes and\n"
     ]
    }
   ],
   "source": [
    "def sort_alphanumerically(string):\n",
    "    string= string.split()\n",
    "    l=(sorted(string))\n",
    "    l=set(l)\n",
    "    print(' '.join(l))\n",
    "sort_alphanumerically('hello world and practice makes perfect and hello world again') "
   ]
  },
  {
   "cell_type": "markdown",
   "id": "769e6807",
   "metadata": {},
   "source": [
    "#### Question 5 :Write a program that accepts a sentence and calculate the number of letters and digits."
   ]
  },
  {
   "cell_type": "code",
   "execution_count": 5,
   "id": "a2c8ab96",
   "metadata": {},
   "outputs": [
    {
     "name": "stdout",
     "output_type": "stream",
     "text": [
      "letters :10\n",
      "digits : 3\n"
     ]
    }
   ],
   "source": [
    "def count(string):\n",
    "    d=0\n",
    "    l=0\n",
    "    for i in string:\n",
    "        if i.isalpha():\n",
    "            l+=1\n",
    "        elif i.isdigit():\n",
    "            d+=1\n",
    "    print(f'letters :{l}')\n",
    "    print(f'digits : {d}')\n",
    "count('hello world! 123')"
   ]
  },
  {
   "cell_type": "markdown",
   "id": "cc6abf21",
   "metadata": {},
   "source": [
    "#### Question 6 : Your program should accept a sequence of comma separated passwords and will check them according to the above criteria. Passwords that match the criteria are to be printed, each separated by a comma."
   ]
  },
  {
   "cell_type": "code",
   "execution_count": 6,
   "id": "d77d92f8",
   "metadata": {},
   "outputs": [
    {
     "data": {
      "text/plain": [
       "'ABd1234@1'"
      ]
     },
     "execution_count": 6,
     "metadata": {},
     "output_type": "execute_result"
    }
   ],
   "source": [
    "def password(string):\n",
    "    special='$#@'\n",
    "    for i in string.split(','):\n",
    "        if len(i)>=6 or len(i)<=12:\n",
    "            if any (k.isupper for k in i) :\n",
    "                if any (k.islower() for k in i):\n",
    "                    if any (k.isdigit() for k in i):\n",
    "                        if any (k for k in i if k in special):\n",
    "                            return i\n",
    "password('ABd1234@1,a F1#,2w3E*,2We3345')"
   ]
  }
 ],
 "metadata": {
  "kernelspec": {
   "display_name": "Python 3 (ipykernel)",
   "language": "python",
   "name": "python3"
  },
  "language_info": {
   "codemirror_mode": {
    "name": "ipython",
    "version": 3
   },
   "file_extension": ".py",
   "mimetype": "text/x-python",
   "name": "python",
   "nbconvert_exporter": "python",
   "pygments_lexer": "ipython3",
   "version": "3.9.7"
  }
 },
 "nbformat": 4,
 "nbformat_minor": 5
}
